{
 "cells": [
  {
   "cell_type": "markdown",
   "metadata": {
    "collapsed": true,
    "deletable": true,
    "editable": true
   },
   "source": [
    "# Artificial Intelligence Engineer Nanodegree - Probabilistic Models\n",
    "## Project: Sign Language Recognition System\n",
    "- [Introduction](#intro)\n",
    "- [Part 1 Feature Selection](#part1_tutorial)\n",
    "    - [Tutorial](#part1_tutorial)\n",
    "    - [Features Submission](#part1_submission)\n",
    "    - [Features Unittest](#part1_test)\n",
    "- [Part 2 Train the models](#part2_tutorial)\n",
    "    - [Tutorial](#part2_tutorial)\n",
    "    - [Model Selection Score Submission](#part2_submission)\n",
    "    - [Model Score Unittest](#part2_test)\n",
    "- [Part 3 Build a Recognizer](#part3_tutorial)\n",
    "    - [Tutorial](#part3_tutorial)\n",
    "    - [Recognizer Submission](#part3_submission)\n",
    "    - [Recognizer Unittest](#part3_test)\n",
    "- [Part 4 (OPTIONAL) Improve the WER with Language Models](#part4_info)"
   ]
  },
  {
   "cell_type": "markdown",
   "metadata": {
    "deletable": true,
    "editable": true
   },
   "source": [
    "<a id='intro'></a>\n",
    "## Introduction\n",
    "The overall goal of this project is to build a word recognizer for American Sign Language video sequences, demonstrating the power of probabalistic models.  In particular, this project employs  [hidden Markov models (HMM's)](https://en.wikipedia.org/wiki/Hidden_Markov_model) to analyze a series of measurements taken from videos of American Sign Language (ASL) collected for research (see the [RWTH-BOSTON-104 Database](http://www-i6.informatik.rwth-aachen.de/~dreuw/database-rwth-boston-104.php)).  In this video, the right-hand x and y locations are plotted as the speaker signs the sentence.\n",
    "[![ASLR demo](http://www-i6.informatik.rwth-aachen.de/~dreuw/images/demosample.png)](https://drive.google.com/open?id=0B_5qGuFe-wbhUXRuVnNZVnMtam8)\n",
    "\n",
    "The raw data, train, and test sets are pre-defined.  You will derive a variety of feature sets (explored in Part 1), as well as implement three different model selection criterion to determine the optimal number of hidden states for each word model (explored in Part 2). Finally, in Part 3 you will implement the recognizer and compare the effects the different combinations of feature sets and model selection criteria.  \n",
    "\n",
    "At the end of each Part, complete the submission cells with implementations, answer all questions, and pass the unit tests.  Then submit the completed notebook for review!"
   ]
  },
  {
   "cell_type": "markdown",
   "metadata": {
    "deletable": true,
    "editable": true
   },
   "source": [
    "<a id='part1_tutorial'></a>\n",
    "## PART 1: Data\n",
    "\n",
    "### Features Tutorial\n",
    "##### Load the initial database\n",
    "A data handler designed for this database is provided in the student codebase as the `AslDb` class in the `asl_data` module.  This handler creates the initial [pandas](http://pandas.pydata.org/pandas-docs/stable/) dataframe from the corpus of data included in the `data` directory as well as dictionaries suitable for extracting data in a format friendly to the [hmmlearn](https://hmmlearn.readthedocs.io/en/latest/) library.  We'll use those to create models in Part 2.\n",
    "\n",
    "To start, let's set up the initial database and select an example set of features for the training set.  At the end of Part 1, you will create additional feature sets for experimentation. "
   ]
  },
  {
   "cell_type": "code",
   "execution_count": 13,
   "metadata": {
    "collapsed": false,
    "deletable": true,
    "editable": true
   },
   "outputs": [
    {
     "data": {
      "text/html": [
       "<div>\n",
       "<table border=\"1\" class=\"dataframe\">\n",
       "  <thead>\n",
       "    <tr style=\"text-align: right;\">\n",
       "      <th></th>\n",
       "      <th></th>\n",
       "      <th>left-x</th>\n",
       "      <th>left-y</th>\n",
       "      <th>right-x</th>\n",
       "      <th>right-y</th>\n",
       "      <th>nose-x</th>\n",
       "      <th>nose-y</th>\n",
       "      <th>speaker</th>\n",
       "    </tr>\n",
       "    <tr>\n",
       "      <th>video</th>\n",
       "      <th>frame</th>\n",
       "      <th></th>\n",
       "      <th></th>\n",
       "      <th></th>\n",
       "      <th></th>\n",
       "      <th></th>\n",
       "      <th></th>\n",
       "      <th></th>\n",
       "    </tr>\n",
       "  </thead>\n",
       "  <tbody>\n",
       "    <tr>\n",
       "      <th rowspan=\"10\" valign=\"top\">98</th>\n",
       "      <th>0</th>\n",
       "      <td>149</td>\n",
       "      <td>181</td>\n",
       "      <td>170</td>\n",
       "      <td>175</td>\n",
       "      <td>161</td>\n",
       "      <td>62</td>\n",
       "      <td>woman-1</td>\n",
       "    </tr>\n",
       "    <tr>\n",
       "      <th>1</th>\n",
       "      <td>149</td>\n",
       "      <td>181</td>\n",
       "      <td>170</td>\n",
       "      <td>175</td>\n",
       "      <td>161</td>\n",
       "      <td>62</td>\n",
       "      <td>woman-1</td>\n",
       "    </tr>\n",
       "    <tr>\n",
       "      <th>2</th>\n",
       "      <td>149</td>\n",
       "      <td>181</td>\n",
       "      <td>170</td>\n",
       "      <td>175</td>\n",
       "      <td>161</td>\n",
       "      <td>62</td>\n",
       "      <td>woman-1</td>\n",
       "    </tr>\n",
       "    <tr>\n",
       "      <th>3</th>\n",
       "      <td>149</td>\n",
       "      <td>181</td>\n",
       "      <td>170</td>\n",
       "      <td>175</td>\n",
       "      <td>161</td>\n",
       "      <td>62</td>\n",
       "      <td>woman-1</td>\n",
       "    </tr>\n",
       "    <tr>\n",
       "      <th>4</th>\n",
       "      <td>149</td>\n",
       "      <td>181</td>\n",
       "      <td>170</td>\n",
       "      <td>175</td>\n",
       "      <td>161</td>\n",
       "      <td>62</td>\n",
       "      <td>woman-1</td>\n",
       "    </tr>\n",
       "    <tr>\n",
       "      <th>5</th>\n",
       "      <td>149</td>\n",
       "      <td>181</td>\n",
       "      <td>170</td>\n",
       "      <td>175</td>\n",
       "      <td>161</td>\n",
       "      <td>62</td>\n",
       "      <td>woman-1</td>\n",
       "    </tr>\n",
       "    <tr>\n",
       "      <th>6</th>\n",
       "      <td>149</td>\n",
       "      <td>181</td>\n",
       "      <td>170</td>\n",
       "      <td>175</td>\n",
       "      <td>161</td>\n",
       "      <td>62</td>\n",
       "      <td>woman-1</td>\n",
       "    </tr>\n",
       "    <tr>\n",
       "      <th>7</th>\n",
       "      <td>149</td>\n",
       "      <td>181</td>\n",
       "      <td>170</td>\n",
       "      <td>175</td>\n",
       "      <td>161</td>\n",
       "      <td>62</td>\n",
       "      <td>woman-1</td>\n",
       "    </tr>\n",
       "    <tr>\n",
       "      <th>8</th>\n",
       "      <td>149</td>\n",
       "      <td>181</td>\n",
       "      <td>170</td>\n",
       "      <td>175</td>\n",
       "      <td>161</td>\n",
       "      <td>62</td>\n",
       "      <td>woman-1</td>\n",
       "    </tr>\n",
       "    <tr>\n",
       "      <th>9</th>\n",
       "      <td>149</td>\n",
       "      <td>181</td>\n",
       "      <td>170</td>\n",
       "      <td>175</td>\n",
       "      <td>161</td>\n",
       "      <td>62</td>\n",
       "      <td>woman-1</td>\n",
       "    </tr>\n",
       "  </tbody>\n",
       "</table>\n",
       "</div>"
      ],
      "text/plain": [
       "             left-x  left-y  right-x  right-y  nose-x  nose-y  speaker\n",
       "video frame                                                           \n",
       "98    0         149     181      170      175     161      62  woman-1\n",
       "      1         149     181      170      175     161      62  woman-1\n",
       "      2         149     181      170      175     161      62  woman-1\n",
       "      3         149     181      170      175     161      62  woman-1\n",
       "      4         149     181      170      175     161      62  woman-1\n",
       "      5         149     181      170      175     161      62  woman-1\n",
       "      6         149     181      170      175     161      62  woman-1\n",
       "      7         149     181      170      175     161      62  woman-1\n",
       "      8         149     181      170      175     161      62  woman-1\n",
       "      9         149     181      170      175     161      62  woman-1"
      ]
     },
     "execution_count": 13,
     "metadata": {},
     "output_type": "execute_result"
    }
   ],
   "source": [
    "import numpy as np\n",
    "import pandas as pd\n",
    "from asl_data import AslDb\n",
    "\n",
    "\n",
    "asl = AslDb() # initializes the database\n",
    "asl.df.head(10) # displays the first five rows of the asl database, indexed by video and frame"
   ]
  },
  {
   "cell_type": "code",
   "execution_count": 12,
   "metadata": {
    "collapsed": false
   },
   "outputs": [
    {
     "data": {
      "text/plain": [
       "110222"
      ]
     },
     "execution_count": 12,
     "metadata": {},
     "output_type": "execute_result"
    }
   ],
   "source": [
    "asl.df.size"
   ]
  },
  {
   "cell_type": "code",
   "execution_count": 23,
   "metadata": {
    "collapsed": false,
    "deletable": true,
    "editable": true
   },
   "outputs": [
    {
     "data": {
      "text/plain": [
       "left-x         149\n",
       "left-y         181\n",
       "right-x        170\n",
       "right-y        175\n",
       "nose-x         161\n",
       "nose-y          62\n",
       "speaker    woman-1\n",
       "grnd-ry        113\n",
       "grnd-rx          9\n",
       "grnd-lx        -12\n",
       "grnd-ly        119\n",
       "Name: (98, 1), dtype: object"
      ]
     },
     "execution_count": 23,
     "metadata": {},
     "output_type": "execute_result"
    }
   ],
   "source": [
    "asl.df.ix[98,1] # look at the data available for an individual frame"
   ]
  },
  {
   "cell_type": "markdown",
   "metadata": {
    "deletable": true,
    "editable": true
   },
   "source": [
    "The frame represented by video 98, frame 1 is shown here:\n",
    "![Video 98](http://www-i6.informatik.rwth-aachen.de/~dreuw/database/rwth-boston-104/overview/images/orig/098-start.jpg)"
   ]
  },
  {
   "cell_type": "markdown",
   "metadata": {
    "deletable": true,
    "editable": true
   },
   "source": [
    "##### Feature selection for training the model\n",
    "The objective of feature selection when training a model is to choose the most relevant variables while keeping the model as simple as possible, thus reducing training time.  We can use the raw features already provided or derive our own and add columns to the pandas dataframe `asl.df` for selection. As an example, in the next cell a feature named `'grnd-ry'` is added. This feature is the difference between the right-hand y value and the nose y value, which serves as the \"ground\" right y value. "
   ]
  },
  {
   "cell_type": "code",
   "execution_count": 14,
   "metadata": {
    "collapsed": false,
    "deletable": true,
    "editable": true
   },
   "outputs": [
    {
     "data": {
      "text/html": [
       "<div>\n",
       "<table border=\"1\" class=\"dataframe\">\n",
       "  <thead>\n",
       "    <tr style=\"text-align: right;\">\n",
       "      <th></th>\n",
       "      <th></th>\n",
       "      <th>left-x</th>\n",
       "      <th>left-y</th>\n",
       "      <th>right-x</th>\n",
       "      <th>right-y</th>\n",
       "      <th>nose-x</th>\n",
       "      <th>nose-y</th>\n",
       "      <th>speaker</th>\n",
       "      <th>grnd-ry</th>\n",
       "    </tr>\n",
       "    <tr>\n",
       "      <th>video</th>\n",
       "      <th>frame</th>\n",
       "      <th></th>\n",
       "      <th></th>\n",
       "      <th></th>\n",
       "      <th></th>\n",
       "      <th></th>\n",
       "      <th></th>\n",
       "      <th></th>\n",
       "      <th></th>\n",
       "    </tr>\n",
       "  </thead>\n",
       "  <tbody>\n",
       "    <tr>\n",
       "      <th rowspan=\"5\" valign=\"top\">98</th>\n",
       "      <th>0</th>\n",
       "      <td>149</td>\n",
       "      <td>181</td>\n",
       "      <td>170</td>\n",
       "      <td>175</td>\n",
       "      <td>161</td>\n",
       "      <td>62</td>\n",
       "      <td>woman-1</td>\n",
       "      <td>113</td>\n",
       "    </tr>\n",
       "    <tr>\n",
       "      <th>1</th>\n",
       "      <td>149</td>\n",
       "      <td>181</td>\n",
       "      <td>170</td>\n",
       "      <td>175</td>\n",
       "      <td>161</td>\n",
       "      <td>62</td>\n",
       "      <td>woman-1</td>\n",
       "      <td>113</td>\n",
       "    </tr>\n",
       "    <tr>\n",
       "      <th>2</th>\n",
       "      <td>149</td>\n",
       "      <td>181</td>\n",
       "      <td>170</td>\n",
       "      <td>175</td>\n",
       "      <td>161</td>\n",
       "      <td>62</td>\n",
       "      <td>woman-1</td>\n",
       "      <td>113</td>\n",
       "    </tr>\n",
       "    <tr>\n",
       "      <th>3</th>\n",
       "      <td>149</td>\n",
       "      <td>181</td>\n",
       "      <td>170</td>\n",
       "      <td>175</td>\n",
       "      <td>161</td>\n",
       "      <td>62</td>\n",
       "      <td>woman-1</td>\n",
       "      <td>113</td>\n",
       "    </tr>\n",
       "    <tr>\n",
       "      <th>4</th>\n",
       "      <td>149</td>\n",
       "      <td>181</td>\n",
       "      <td>170</td>\n",
       "      <td>175</td>\n",
       "      <td>161</td>\n",
       "      <td>62</td>\n",
       "      <td>woman-1</td>\n",
       "      <td>113</td>\n",
       "    </tr>\n",
       "  </tbody>\n",
       "</table>\n",
       "</div>"
      ],
      "text/plain": [
       "             left-x  left-y  right-x  right-y  nose-x  nose-y  speaker  \\\n",
       "video frame                                                              \n",
       "98    0         149     181      170      175     161      62  woman-1   \n",
       "      1         149     181      170      175     161      62  woman-1   \n",
       "      2         149     181      170      175     161      62  woman-1   \n",
       "      3         149     181      170      175     161      62  woman-1   \n",
       "      4         149     181      170      175     161      62  woman-1   \n",
       "\n",
       "             grnd-ry  \n",
       "video frame           \n",
       "98    0          113  \n",
       "      1          113  \n",
       "      2          113  \n",
       "      3          113  \n",
       "      4          113  "
      ]
     },
     "execution_count": 14,
     "metadata": {},
     "output_type": "execute_result"
    }
   ],
   "source": [
    "asl.df['grnd-ry'] = asl.df['right-y'] - asl.df['nose-y']\n",
    "asl.df.head()  # the new feature 'grnd-ry' is now in the frames dictionary"
   ]
  },
  {
   "cell_type": "markdown",
   "metadata": {
    "deletable": true,
    "editable": true
   },
   "source": [
    "##### Try it!"
   ]
  },
  {
   "cell_type": "code",
   "execution_count": 17,
   "metadata": {
    "collapsed": false,
    "deletable": true,
    "editable": true
   },
   "outputs": [
    {
     "name": "stdout",
     "output_type": "stream",
     "text": [
      "asl.df sample\n"
     ]
    },
    {
     "data": {
      "text/html": [
       "<div>\n",
       "<table border=\"1\" class=\"dataframe\">\n",
       "  <thead>\n",
       "    <tr style=\"text-align: right;\">\n",
       "      <th></th>\n",
       "      <th></th>\n",
       "      <th>left-x</th>\n",
       "      <th>left-y</th>\n",
       "      <th>right-x</th>\n",
       "      <th>right-y</th>\n",
       "      <th>nose-x</th>\n",
       "      <th>nose-y</th>\n",
       "      <th>speaker</th>\n",
       "      <th>grnd-ry</th>\n",
       "      <th>grnd-rx</th>\n",
       "      <th>grnd-lx</th>\n",
       "      <th>grnd-ly</th>\n",
       "    </tr>\n",
       "    <tr>\n",
       "      <th>video</th>\n",
       "      <th>frame</th>\n",
       "      <th></th>\n",
       "      <th></th>\n",
       "      <th></th>\n",
       "      <th></th>\n",
       "      <th></th>\n",
       "      <th></th>\n",
       "      <th></th>\n",
       "      <th></th>\n",
       "      <th></th>\n",
       "      <th></th>\n",
       "      <th></th>\n",
       "    </tr>\n",
       "  </thead>\n",
       "  <tbody>\n",
       "    <tr>\n",
       "      <th rowspan=\"5\" valign=\"top\">98</th>\n",
       "      <th>0</th>\n",
       "      <td>149</td>\n",
       "      <td>181</td>\n",
       "      <td>170</td>\n",
       "      <td>175</td>\n",
       "      <td>161</td>\n",
       "      <td>62</td>\n",
       "      <td>woman-1</td>\n",
       "      <td>113</td>\n",
       "      <td>9</td>\n",
       "      <td>-12</td>\n",
       "      <td>119</td>\n",
       "    </tr>\n",
       "    <tr>\n",
       "      <th>1</th>\n",
       "      <td>149</td>\n",
       "      <td>181</td>\n",
       "      <td>170</td>\n",
       "      <td>175</td>\n",
       "      <td>161</td>\n",
       "      <td>62</td>\n",
       "      <td>woman-1</td>\n",
       "      <td>113</td>\n",
       "      <td>9</td>\n",
       "      <td>-12</td>\n",
       "      <td>119</td>\n",
       "    </tr>\n",
       "    <tr>\n",
       "      <th>2</th>\n",
       "      <td>149</td>\n",
       "      <td>181</td>\n",
       "      <td>170</td>\n",
       "      <td>175</td>\n",
       "      <td>161</td>\n",
       "      <td>62</td>\n",
       "      <td>woman-1</td>\n",
       "      <td>113</td>\n",
       "      <td>9</td>\n",
       "      <td>-12</td>\n",
       "      <td>119</td>\n",
       "    </tr>\n",
       "    <tr>\n",
       "      <th>3</th>\n",
       "      <td>149</td>\n",
       "      <td>181</td>\n",
       "      <td>170</td>\n",
       "      <td>175</td>\n",
       "      <td>161</td>\n",
       "      <td>62</td>\n",
       "      <td>woman-1</td>\n",
       "      <td>113</td>\n",
       "      <td>9</td>\n",
       "      <td>-12</td>\n",
       "      <td>119</td>\n",
       "    </tr>\n",
       "    <tr>\n",
       "      <th>4</th>\n",
       "      <td>149</td>\n",
       "      <td>181</td>\n",
       "      <td>170</td>\n",
       "      <td>175</td>\n",
       "      <td>161</td>\n",
       "      <td>62</td>\n",
       "      <td>woman-1</td>\n",
       "      <td>113</td>\n",
       "      <td>9</td>\n",
       "      <td>-12</td>\n",
       "      <td>119</td>\n",
       "    </tr>\n",
       "  </tbody>\n",
       "</table>\n",
       "</div>"
      ],
      "text/plain": [
       "             left-x  left-y  right-x  right-y  nose-x  nose-y  speaker  \\\n",
       "video frame                                                              \n",
       "98    0         149     181      170      175     161      62  woman-1   \n",
       "      1         149     181      170      175     161      62  woman-1   \n",
       "      2         149     181      170      175     161      62  woman-1   \n",
       "      3         149     181      170      175     161      62  woman-1   \n",
       "      4         149     181      170      175     161      62  woman-1   \n",
       "\n",
       "             grnd-ry  grnd-rx  grnd-lx  grnd-ly  \n",
       "video frame                                      \n",
       "98    0          113        9      -12      119  \n",
       "      1          113        9      -12      119  \n",
       "      2          113        9      -12      119  \n",
       "      3          113        9      -12      119  \n",
       "      4          113        9      -12      119  "
      ]
     },
     "metadata": {},
     "output_type": "display_data"
    },
    {
     "data": {
      "text/html": [
       "<font color=green>Correct!</font><br/>"
      ],
      "text/plain": [
       "<IPython.core.display.HTML object>"
      ]
     },
     "execution_count": 17,
     "metadata": {},
     "output_type": "execute_result"
    }
   ],
   "source": [
    "from asl_utils import test_features_tryit\n",
    "# TODO add df columns for 'grnd-rx', 'grnd-ly', 'grnd-lx' representing differences between hand and nose locations\n",
    "asl.df['grnd-rx']= asl.df['right-x']-asl.df['nose-x']\n",
    "asl.df['grnd-lx']= asl.df['left-x']-asl.df['nose-x']\n",
    "asl.df['grnd-ly']= asl.df['left-y']-asl.df['nose-y']\n",
    "# test the code\n",
    "test_features_tryit(asl)"
   ]
  },
  {
   "cell_type": "code",
   "execution_count": 20,
   "metadata": {
    "collapsed": false,
    "deletable": true,
    "editable": true
   },
   "outputs": [
    {
     "data": {
      "text/plain": [
       "[9, 113, -12, 119]"
      ]
     },
     "execution_count": 20,
     "metadata": {},
     "output_type": "execute_result"
    }
   ],
   "source": [
    "# collect the features into a list\n",
    "features_ground = ['grnd-rx','grnd-ry','grnd-lx','grnd-ly']\n",
    " #show a single set of features for a given (video, frame) tuple\n",
    "[asl.df.ix[98,1][v] for v in features_ground]\n"
   ]
  },
  {
   "cell_type": "markdown",
   "metadata": {
    "deletable": true,
    "editable": true
   },
   "source": [
    "##### Build the training set\n",
    "Now that we have a feature list defined, we can pass that list to the `build_training` method to collect the features for all the words in the training set.  Each word in the training set has multiple examples from various videos.  Below we can see the unique words that have been loaded into the training set:"
   ]
  },
  {
   "cell_type": "code",
   "execution_count": 24,
   "metadata": {
    "collapsed": false,
    "deletable": true,
    "editable": true
   },
   "outputs": [
    {
     "name": "stdout",
     "output_type": "stream",
     "text": [
      "Training words: ['JOHN', 'WRITE', 'HOMEWORK', 'IX-1P', 'SEE', 'YESTERDAY', 'IX', 'LOVE', 'MARY', 'CAN', 'GO', 'GO1', 'FUTURE', 'GO2', 'PARTY', 'FUTURE1', 'HIT', 'BLAME', 'FRED', 'FISH', 'WONT', 'EAT', 'BUT', 'CHICKEN', 'VEGETABLE', 'CHINA', 'PEOPLE', 'PREFER', 'BROCCOLI', 'LIKE', 'LEAVE', 'SAY', 'BUY', 'HOUSE', 'KNOW', 'CORN', 'CORN1', 'THINK', 'NOT', 'PAST', 'LIVE', 'CHICAGO', 'CAR', 'SHOULD', 'DECIDE', 'VISIT', 'MOVIE', 'WANT', 'SELL', 'TOMORROW', 'NEXT-WEEK', 'NEW-YORK', 'LAST-WEEK', 'WILL', 'FINISH', 'ANN', 'READ', 'BOOK', 'CHOCOLATE', 'FIND', 'SOMETHING-ONE', 'POSS', 'BROTHER', 'ARRIVE', 'HERE', 'GIVE', 'MAN', 'NEW', 'COAT', 'WOMAN', 'GIVE1', 'HAVE', 'FRANK', 'BREAK-DOWN', 'SEARCH-FOR', 'WHO', 'WHAT', 'LEG', 'FRIEND', 'CANDY', 'BLUE', 'SUE', 'BUY1', 'STOLEN', 'OLD', 'STUDENT', 'VIDEOTAPE', 'BORROW', 'MOTHER', 'POTATO', 'TELL', 'BILL', 'THROW', 'APPLE', 'NAME', 'SHOOT', 'SAY-1P', 'SELF', 'GROUP', 'JANA', 'TOY1', 'MANY', 'TOY', 'ALL', 'BOY', 'TEACHER', 'GIRL', 'BOX', 'GIVE2', 'GIVE3', 'GET', 'PUTASIDE']\n"
     ]
    }
   ],
   "source": [
    "training = asl.build_training(features_ground)\n",
    "print(\"Training words: {}\".format(training.words))"
   ]
  },
  {
   "cell_type": "markdown",
   "metadata": {
    "deletable": true,
    "editable": true
   },
   "source": [
    "The training data in `training` is an object of class `WordsData` defined in the `asl_data` module.  in addition to the `words` list, data can be accessed with the `get_all_sequences`, `get_all_Xlengths`, `get_word_sequences`, and `get_word_Xlengths` methods. We need the `get_word_Xlengths` method to train multiple sequences with the `hmmlearn` library.  In the following example, notice that there are two lists; the first is a concatenation of all the sequences(the X portion) and the second is a list of the sequence lengths(the Lengths portion)."
   ]
  },
  {
   "cell_type": "code",
   "execution_count": 50,
   "metadata": {
    "collapsed": false,
    "deletable": true,
    "editable": true
   },
   "outputs": [
    {
     "data": {
      "text/plain": [
       "(array([[-43,  18,  39, 181],\n",
       "        [-35,  23,  42, 182],\n",
       "        [-32,  23,  42, 182],\n",
       "        [-27,  23,  42, 182],\n",
       "        [-26,  24,  42, 182],\n",
       "        [-26,  24,  42, 182],\n",
       "        [-26,  24,  42, 182],\n",
       "        [-26,  24,  42, 182],\n",
       "        [-33,  21,  39, 181],\n",
       "        [-41,  20,  39, 181],\n",
       "        [-38,  26,  35, 172],\n",
       "        [-24,  24,  39, 170],\n",
       "        [-24,  24,  39, 170],\n",
       "        [-26,  25,  37, 171],\n",
       "        [-29,  28,  34, 174],\n",
       "        [-39,  26,  33, 173],\n",
       "        [-46,  26,  33, 173],\n",
       "        [-38,  22,  38, 173],\n",
       "        [-30,  24,  38, 173],\n",
       "        [-27,  21,  38, 170],\n",
       "        [-27,  21,  38, 170],\n",
       "        [-27,  21,  38, 170],\n",
       "        [-23,  23,  38, 170],\n",
       "        [-25,  24,  36, 171],\n",
       "        [-27,  20,  36, 171],\n",
       "        [-32,  20,  35, 172],\n",
       "        [-35,  21,  32, 173],\n",
       "        [ -2,  29,  39, 174],\n",
       "        [ -7,  28,  36, 175],\n",
       "        [-11,  26,  36, 175],\n",
       "        [-11,  26,  36, 175],\n",
       "        [-11,  26,  37, 170],\n",
       "        [-11,  26,  41, 161],\n",
       "        [-11,  26,  47, 152],\n",
       "        [ -4,  28,  57, 140],\n",
       "        [  2,  28,  69, 127],\n",
       "        [ 15,  29,  78, 118],\n",
       "        [-30,  29,  38, 177],\n",
       "        [-26,  28,  38, 177],\n",
       "        [-26,  28,  38, 177],\n",
       "        [-24,  26,  38, 177],\n",
       "        [-22,  27,  38, 177],\n",
       "        [-22,  27,  38, 177],\n",
       "        [-22,  27,  38, 177],\n",
       "        [-26,  29,  37, 172]], dtype=int64), [10, 7, 10, 10, 8])"
      ]
     },
     "execution_count": 50,
     "metadata": {},
     "output_type": "execute_result"
    }
   ],
   "source": [
    "training.get_word_Xlengths('GIRL')"
   ]
  },
  {
   "cell_type": "markdown",
   "metadata": {
    "deletable": true,
    "editable": true
   },
   "source": [
    "###### More feature sets\n",
    "So far we have a simple feature set that is enough to get started modeling.  However, we might get better results if we manipulate the raw values a bit more, so we will go ahead and set up some other options now for experimentation later.  For example, we could normalize each speaker's range of motion with grouped statistics using [Pandas stats](http://pandas.pydata.org/pandas-docs/stable/api.html#api-dataframe-stats) functions and [pandas groupby](http://pandas.pydata.org/pandas-docs/stable/generated/pandas.DataFrame.groupby.html).  Below is an example for finding the means of all speaker subgroups."
   ]
  },
  {
   "cell_type": "code",
   "execution_count": 27,
   "metadata": {
    "collapsed": false,
    "deletable": true,
    "editable": true,
    "scrolled": true
   },
   "outputs": [
    {
     "data": {
      "text/html": [
       "<div>\n",
       "<table border=\"1\" class=\"dataframe\">\n",
       "  <thead>\n",
       "    <tr style=\"text-align: right;\">\n",
       "      <th></th>\n",
       "      <th>left-x</th>\n",
       "      <th>left-y</th>\n",
       "      <th>right-x</th>\n",
       "      <th>right-y</th>\n",
       "      <th>nose-x</th>\n",
       "      <th>nose-y</th>\n",
       "      <th>grnd-ry</th>\n",
       "      <th>grnd-rx</th>\n",
       "      <th>grnd-lx</th>\n",
       "      <th>grnd-ly</th>\n",
       "    </tr>\n",
       "    <tr>\n",
       "      <th>speaker</th>\n",
       "      <th></th>\n",
       "      <th></th>\n",
       "      <th></th>\n",
       "      <th></th>\n",
       "      <th></th>\n",
       "      <th></th>\n",
       "      <th></th>\n",
       "      <th></th>\n",
       "      <th></th>\n",
       "      <th></th>\n",
       "    </tr>\n",
       "  </thead>\n",
       "  <tbody>\n",
       "    <tr>\n",
       "      <th>man-1</th>\n",
       "      <td>206.248203</td>\n",
       "      <td>218.679449</td>\n",
       "      <td>155.464350</td>\n",
       "      <td>150.371031</td>\n",
       "      <td>175.031756</td>\n",
       "      <td>61.642600</td>\n",
       "      <td>88.728430</td>\n",
       "      <td>-19.567406</td>\n",
       "      <td>31.216447</td>\n",
       "      <td>157.036848</td>\n",
       "    </tr>\n",
       "    <tr>\n",
       "      <th>woman-1</th>\n",
       "      <td>164.661438</td>\n",
       "      <td>161.271242</td>\n",
       "      <td>151.017865</td>\n",
       "      <td>117.332462</td>\n",
       "      <td>162.655120</td>\n",
       "      <td>57.245098</td>\n",
       "      <td>60.087364</td>\n",
       "      <td>-11.637255</td>\n",
       "      <td>2.006318</td>\n",
       "      <td>104.026144</td>\n",
       "    </tr>\n",
       "    <tr>\n",
       "      <th>woman-2</th>\n",
       "      <td>183.214509</td>\n",
       "      <td>176.527232</td>\n",
       "      <td>156.866295</td>\n",
       "      <td>119.835714</td>\n",
       "      <td>170.318973</td>\n",
       "      <td>58.022098</td>\n",
       "      <td>61.813616</td>\n",
       "      <td>-13.452679</td>\n",
       "      <td>12.895536</td>\n",
       "      <td>118.505134</td>\n",
       "    </tr>\n",
       "  </tbody>\n",
       "</table>\n",
       "</div>"
      ],
      "text/plain": [
       "             left-x      left-y     right-x     right-y      nose-x  \\\n",
       "speaker                                                               \n",
       "man-1    206.248203  218.679449  155.464350  150.371031  175.031756   \n",
       "woman-1  164.661438  161.271242  151.017865  117.332462  162.655120   \n",
       "woman-2  183.214509  176.527232  156.866295  119.835714  170.318973   \n",
       "\n",
       "            nose-y    grnd-ry    grnd-rx    grnd-lx     grnd-ly  \n",
       "speaker                                                          \n",
       "man-1    61.642600  88.728430 -19.567406  31.216447  157.036848  \n",
       "woman-1  57.245098  60.087364 -11.637255   2.006318  104.026144  \n",
       "woman-2  58.022098  61.813616 -13.452679  12.895536  118.505134  "
      ]
     },
     "execution_count": 27,
     "metadata": {},
     "output_type": "execute_result"
    }
   ],
   "source": [
    "df_means = asl.df.groupby('speaker').mean()\n",
    "df_means"
   ]
  },
  {
   "cell_type": "markdown",
   "metadata": {
    "deletable": true,
    "editable": true
   },
   "source": [
    "To select a mean that matches by speaker, use the pandas [map](http://pandas.pydata.org/pandas-docs/stable/generated/pandas.Series.map.html) method:"
   ]
  },
  {
   "cell_type": "code",
   "execution_count": 28,
   "metadata": {
    "collapsed": false,
    "deletable": true,
    "editable": true
   },
   "outputs": [
    {
     "data": {
      "text/html": [
       "<div>\n",
       "<table border=\"1\" class=\"dataframe\">\n",
       "  <thead>\n",
       "    <tr style=\"text-align: right;\">\n",
       "      <th></th>\n",
       "      <th></th>\n",
       "      <th>left-x</th>\n",
       "      <th>left-y</th>\n",
       "      <th>right-x</th>\n",
       "      <th>right-y</th>\n",
       "      <th>nose-x</th>\n",
       "      <th>nose-y</th>\n",
       "      <th>speaker</th>\n",
       "      <th>grnd-ry</th>\n",
       "      <th>grnd-rx</th>\n",
       "      <th>grnd-lx</th>\n",
       "      <th>grnd-ly</th>\n",
       "      <th>left-x-mean</th>\n",
       "    </tr>\n",
       "    <tr>\n",
       "      <th>video</th>\n",
       "      <th>frame</th>\n",
       "      <th></th>\n",
       "      <th></th>\n",
       "      <th></th>\n",
       "      <th></th>\n",
       "      <th></th>\n",
       "      <th></th>\n",
       "      <th></th>\n",
       "      <th></th>\n",
       "      <th></th>\n",
       "      <th></th>\n",
       "      <th></th>\n",
       "      <th></th>\n",
       "    </tr>\n",
       "  </thead>\n",
       "  <tbody>\n",
       "    <tr>\n",
       "      <th rowspan=\"5\" valign=\"top\">98</th>\n",
       "      <th>0</th>\n",
       "      <td>149</td>\n",
       "      <td>181</td>\n",
       "      <td>170</td>\n",
       "      <td>175</td>\n",
       "      <td>161</td>\n",
       "      <td>62</td>\n",
       "      <td>woman-1</td>\n",
       "      <td>113</td>\n",
       "      <td>9</td>\n",
       "      <td>-12</td>\n",
       "      <td>119</td>\n",
       "      <td>164.661438</td>\n",
       "    </tr>\n",
       "    <tr>\n",
       "      <th>1</th>\n",
       "      <td>149</td>\n",
       "      <td>181</td>\n",
       "      <td>170</td>\n",
       "      <td>175</td>\n",
       "      <td>161</td>\n",
       "      <td>62</td>\n",
       "      <td>woman-1</td>\n",
       "      <td>113</td>\n",
       "      <td>9</td>\n",
       "      <td>-12</td>\n",
       "      <td>119</td>\n",
       "      <td>164.661438</td>\n",
       "    </tr>\n",
       "    <tr>\n",
       "      <th>2</th>\n",
       "      <td>149</td>\n",
       "      <td>181</td>\n",
       "      <td>170</td>\n",
       "      <td>175</td>\n",
       "      <td>161</td>\n",
       "      <td>62</td>\n",
       "      <td>woman-1</td>\n",
       "      <td>113</td>\n",
       "      <td>9</td>\n",
       "      <td>-12</td>\n",
       "      <td>119</td>\n",
       "      <td>164.661438</td>\n",
       "    </tr>\n",
       "    <tr>\n",
       "      <th>3</th>\n",
       "      <td>149</td>\n",
       "      <td>181</td>\n",
       "      <td>170</td>\n",
       "      <td>175</td>\n",
       "      <td>161</td>\n",
       "      <td>62</td>\n",
       "      <td>woman-1</td>\n",
       "      <td>113</td>\n",
       "      <td>9</td>\n",
       "      <td>-12</td>\n",
       "      <td>119</td>\n",
       "      <td>164.661438</td>\n",
       "    </tr>\n",
       "    <tr>\n",
       "      <th>4</th>\n",
       "      <td>149</td>\n",
       "      <td>181</td>\n",
       "      <td>170</td>\n",
       "      <td>175</td>\n",
       "      <td>161</td>\n",
       "      <td>62</td>\n",
       "      <td>woman-1</td>\n",
       "      <td>113</td>\n",
       "      <td>9</td>\n",
       "      <td>-12</td>\n",
       "      <td>119</td>\n",
       "      <td>164.661438</td>\n",
       "    </tr>\n",
       "  </tbody>\n",
       "</table>\n",
       "</div>"
      ],
      "text/plain": [
       "             left-x  left-y  right-x  right-y  nose-x  nose-y  speaker  \\\n",
       "video frame                                                              \n",
       "98    0         149     181      170      175     161      62  woman-1   \n",
       "      1         149     181      170      175     161      62  woman-1   \n",
       "      2         149     181      170      175     161      62  woman-1   \n",
       "      3         149     181      170      175     161      62  woman-1   \n",
       "      4         149     181      170      175     161      62  woman-1   \n",
       "\n",
       "             grnd-ry  grnd-rx  grnd-lx  grnd-ly  left-x-mean  \n",
       "video frame                                                   \n",
       "98    0          113        9      -12      119   164.661438  \n",
       "      1          113        9      -12      119   164.661438  \n",
       "      2          113        9      -12      119   164.661438  \n",
       "      3          113        9      -12      119   164.661438  \n",
       "      4          113        9      -12      119   164.661438  "
      ]
     },
     "execution_count": 28,
     "metadata": {},
     "output_type": "execute_result"
    }
   ],
   "source": [
    "asl.df['left-x-mean']= asl.df['speaker'].map(df_means['left-x'])\n",
    "asl.df.head()"
   ]
  },
  {
   "cell_type": "markdown",
   "metadata": {
    "deletable": true,
    "editable": true
   },
   "source": [
    "##### Try it!"
   ]
  },
  {
   "cell_type": "code",
   "execution_count": 29,
   "metadata": {
    "collapsed": false,
    "deletable": true,
    "editable": true
   },
   "outputs": [
    {
     "name": "stdout",
     "output_type": "stream",
     "text": [
      "df_std\n"
     ]
    },
    {
     "data": {
      "text/html": [
       "<div>\n",
       "<table border=\"1\" class=\"dataframe\">\n",
       "  <thead>\n",
       "    <tr style=\"text-align: right;\">\n",
       "      <th></th>\n",
       "      <th>left-x</th>\n",
       "      <th>left-y</th>\n",
       "      <th>right-x</th>\n",
       "      <th>right-y</th>\n",
       "      <th>nose-x</th>\n",
       "      <th>nose-y</th>\n",
       "      <th>grnd-ry</th>\n",
       "      <th>grnd-rx</th>\n",
       "      <th>grnd-lx</th>\n",
       "      <th>grnd-ly</th>\n",
       "      <th>left-x-mean</th>\n",
       "    </tr>\n",
       "    <tr>\n",
       "      <th>speaker</th>\n",
       "      <th></th>\n",
       "      <th></th>\n",
       "      <th></th>\n",
       "      <th></th>\n",
       "      <th></th>\n",
       "      <th></th>\n",
       "      <th></th>\n",
       "      <th></th>\n",
       "      <th></th>\n",
       "      <th></th>\n",
       "      <th></th>\n",
       "    </tr>\n",
       "  </thead>\n",
       "  <tbody>\n",
       "    <tr>\n",
       "      <th>man-1</th>\n",
       "      <td>15.154425</td>\n",
       "      <td>36.328485</td>\n",
       "      <td>18.901917</td>\n",
       "      <td>54.902340</td>\n",
       "      <td>6.654573</td>\n",
       "      <td>5.520045</td>\n",
       "      <td>53.487999</td>\n",
       "      <td>20.269032</td>\n",
       "      <td>15.080360</td>\n",
       "      <td>36.572749</td>\n",
       "      <td>0.0</td>\n",
       "    </tr>\n",
       "    <tr>\n",
       "      <th>woman-1</th>\n",
       "      <td>17.573442</td>\n",
       "      <td>26.594521</td>\n",
       "      <td>16.459943</td>\n",
       "      <td>34.667787</td>\n",
       "      <td>3.549392</td>\n",
       "      <td>3.538330</td>\n",
       "      <td>33.972660</td>\n",
       "      <td>16.764706</td>\n",
       "      <td>17.328941</td>\n",
       "      <td>27.117393</td>\n",
       "      <td>0.0</td>\n",
       "    </tr>\n",
       "    <tr>\n",
       "      <th>woman-2</th>\n",
       "      <td>15.388711</td>\n",
       "      <td>28.825025</td>\n",
       "      <td>14.890288</td>\n",
       "      <td>39.649111</td>\n",
       "      <td>4.099760</td>\n",
       "      <td>3.416167</td>\n",
       "      <td>39.128572</td>\n",
       "      <td>16.191324</td>\n",
       "      <td>15.050938</td>\n",
       "      <td>29.320655</td>\n",
       "      <td>0.0</td>\n",
       "    </tr>\n",
       "  </tbody>\n",
       "</table>\n",
       "</div>"
      ],
      "text/plain": [
       "            left-x     left-y    right-x    right-y    nose-x    nose-y  \\\n",
       "speaker                                                                   \n",
       "man-1    15.154425  36.328485  18.901917  54.902340  6.654573  5.520045   \n",
       "woman-1  17.573442  26.594521  16.459943  34.667787  3.549392  3.538330   \n",
       "woman-2  15.388711  28.825025  14.890288  39.649111  4.099760  3.416167   \n",
       "\n",
       "           grnd-ry    grnd-rx    grnd-lx    grnd-ly  left-x-mean  \n",
       "speaker                                                           \n",
       "man-1    53.487999  20.269032  15.080360  36.572749          0.0  \n",
       "woman-1  33.972660  16.764706  17.328941  27.117393          0.0  \n",
       "woman-2  39.128572  16.191324  15.050938  29.320655          0.0  "
      ]
     },
     "metadata": {},
     "output_type": "display_data"
    },
    {
     "data": {
      "text/html": [
       "<font color=green>Correct!</font><br/>"
      ],
      "text/plain": [
       "<IPython.core.display.HTML object>"
      ]
     },
     "execution_count": 29,
     "metadata": {},
     "output_type": "execute_result"
    }
   ],
   "source": [
    "from asl_utils import test_std_tryit\n",
    "# TODO Create a dataframe named `df_std` with standard deviations grouped by speaker\n",
    "df_std = asl.df.groupby('speaker').std()\n",
    "df_std\n",
    "# test the code\n",
    "test_std_tryit(df_std)"
   ]
  },
  {
   "cell_type": "markdown",
   "metadata": {
    "deletable": true,
    "editable": true
   },
   "source": [
    "<a id='part1_submission'></a>\n",
    "### Features Implementation Submission\n",
    "Implement four feature sets and answer the question that follows.\n",
    "- normalized Cartesian coordinates\n",
    "    - use *mean* and *standard deviation* statistics and the [standard score](https://en.wikipedia.org/wiki/Standard_score) equation to account for speakers with different heights and arm length\n",
    "    \n",
    "- polar coordinates\n",
    "    - calculate polar coordinates with [Cartesian to polar equations](https://en.wikipedia.org/wiki/Polar_coordinate_system#Converting_between_polar_and_Cartesian_coordinates)\n",
    "    - use the [np.arctan2](https://docs.scipy.org/doc/numpy-1.10.0/reference/generated/numpy.arctan2.html) function and *swap the x and y axes* to move the $0$ to $2\\pi$ discontinuity to 12 o'clock instead of 3 o'clock;  in other words, the normal break in radians value from $0$ to $2\\pi$ occurs directly to the left of the speaker's nose, which may be in the signing area and interfere with results.  By swapping the x and y axes, that discontinuity move to directly above the speaker's head, an area not generally used in signing.\n",
    "\n",
    "- delta difference\n",
    "    - as described in Thad's lecture, use the difference in values between one frame and the next frames as features\n",
    "    - pandas [diff method](http://pandas.pydata.org/pandas-docs/stable/generated/pandas.DataFrame.diff.html) and [fillna method](http://pandas.pydata.org/pandas-docs/stable/generated/pandas.DataFrame.fillna.html) will be helpful for this one\n",
    "\n",
    "- custom features\n",
    "    - These are your own design; combine techniques used above or come up with something else entirely. We look forward to seeing what you come up with! \n",
    "    Some ideas to get you started:\n",
    "        - normalize using a [feature scaling equation](https://en.wikipedia.org/wiki/Feature_scaling)\n",
    "        - normalize the polar coordinates\n",
    "        - adding additional deltas\n"
   ]
  },
  {
   "cell_type": "code",
   "execution_count": 47,
   "metadata": {
    "collapsed": false,
    "deletable": true,
    "editable": true
   },
   "outputs": [],
   "source": [
    "# TODO add features for normalized by speaker values of left, right, x, y\n",
    "# Name these 'norm-rx', 'norm-ry', 'norm-lx', and 'norm-ly'\n",
    "# using Z-score scaling (X-Xmean)/Xstd\n",
    "\n",
    "features_norm = ['norm-rx', 'norm-ry', 'norm-lx','norm-ly']\n",
    "\n",
    "mean_right_x = asl.df['speaker'].map(df_means['right-x'])\n",
    "mean_right_y = asl.df['speaker'].map(df_means['right-y'])\n",
    "mean_left_x  = asl.df['speaker'].map(df_means['left-x'])\n",
    "mean_left_y  = asl.df['speaker'].map(df_means['left-y'])\n",
    "\n",
    "std_right_x = asl.df['speaker'].map(df_std['right-x'])\n",
    "std_right_y = asl.df['speaker'].map(df_std['right-y'])\n",
    "std_left_x  = asl.df['speaker'].map(df_std['left-x'])\n",
    "std_left_y  = asl.df['speaker'].map(df_std['left-y'])\n",
    "\n",
    "asl.df['norm-rx'] = (asl.df['right-x'] - mean_right_x) / std_right_x\n",
    "asl.df['norm-ry'] = (asl.df['right-y'] - mean_right_y) / std_right_y\n",
    "asl.df['norm-lx'] = (asl.df['left-x'] - mean_left_x) / std_left_x\n",
    "asl.df['norm-ly'] = (asl.df['left-y'] - mean_left_y) / std_left_y\n"
   ]
  },
  {
   "cell_type": "code",
   "execution_count": 32,
   "metadata": {
    "collapsed": false,
    "deletable": true,
    "editable": true
   },
   "outputs": [],
   "source": [
    "# TODO add features for polar coordinate values where the nose is the origin\n",
    "# Name these 'polar-rr', 'polar-rtheta', 'polar-lr', and 'polar-ltheta'\n",
    "# Note that 'polar-rr' and 'polar-rtheta' refer to the radius and angle\n",
    "\n",
    "features_polar = ['polar-rr', 'polar-rtheta', 'polar-lr', 'polar-ltheta']\n",
    "\n",
    "asl.df['polar-rr'] = np.sqrt(asl.df['grnd-rx']*asl.df['grnd-rx'] + asl.df['grnd-ry']*asl.df['grnd-ry'])\n",
    "asl.df['polar-rtheta'] = np.arctan2(asl.df['grnd-rx'], asl.df['grnd-ry'])\n",
    "asl.df['polar-lr'] = np.sqrt(asl.df['grnd-lx']*asl.df['grnd-lx'] + asl.df['grnd-ly']*asl.df['grnd-ly'])\n",
    "asl.df['polar-ltheta'] = np.arctan2(asl.df['grnd-lx'], asl.df['grnd-ly'])"
   ]
  },
  {
   "cell_type": "code",
   "execution_count": 42,
   "metadata": {
    "collapsed": false,
    "deletable": true,
    "editable": true
   },
   "outputs": [],
   "source": [
    "# TODO add features for left, right, x, y differences by one time step, i.e. the \"delta\" values discussed in the lecture\n",
    "# Name these 'delta-rx', 'delta-ry', 'delta-lx', and 'delta-ly'\n",
    "\n",
    "features_delta = ['delta-rx', 'delta-ry', 'delta-lx', 'delta-ly']\n",
    "asl.df['delta-rx'] = asl.df['right-x'].diff().fillna(0)\n",
    "asl.df['delta-ry'] = asl.df['right-y'].diff().fillna(0)\n",
    "asl.df['delta-lx'] = asl.df['left-x'].diff().fillna(0)\n",
    "asl.df['delta-ly'] = asl.df['left-y'].diff().fillna(0)\n"
   ]
  },
  {
   "cell_type": "code",
   "execution_count": 53,
   "metadata": {
    "collapsed": false,
    "deletable": true,
    "editable": true
   },
   "outputs": [],
   "source": [
    "# TODO add features of your own design, which may be a combination of the above or something else\n",
    "# Name these whatever you would like\n",
    "\n",
    "#normalizing the polar cordinates\n",
    "df_means = asl.df.groupby('speaker').mean()\n",
    "df_std = asl.df.groupby('speaker').std()\n",
    "\n",
    "# Normalize right hand actions\n",
    "mean_polar_rr = asl.df['speaker'].map(df_means['polar-rr'])\n",
    "std_polar_rr = asl.df['speaker'].map(df_std['polar-rr'])\n",
    "asl.df['norm-polar-rr'] = (asl.df['polar-rr'] - mean_polar_rr) / std_polar_rr\n",
    "\n",
    "# Normalize left hand actions\n",
    "mean_polar_lr = asl.df['speaker'].map(df_means['polar-lr'])\n",
    "std_polar_lr = asl.df['speaker'].map(df_std['polar-lr'])\n",
    "asl.df['norm-polar-lr'] = (asl.df['polar-lr'] - mean_polar_lr) / std_polar_lr\n",
    "\n",
    "#rescaling the features to make them effecient computationaly\n",
    "\n",
    "df_mins = asl.df.groupby('speaker').min()\n",
    "df_maxs = asl.df.groupby('speaker').max()\n",
    "\n",
    "# Min for each speaker\n",
    "asl.df['left-x-min'] = asl.df['speaker'].map(df_mins['left-x'])\n",
    "asl.df['left-y-min'] = asl.df['speaker'].map(df_mins['left-y'])\n",
    "asl.df['right-x-min']= asl.df['speaker'].map(df_mins['right-x'])\n",
    "asl.df['right-y-min']= asl.df['speaker'].map(df_mins['right-y'])\n",
    "\n",
    "# Max for each speaker\n",
    "asl.df['left-x-max'] = asl.df['speaker'].map(df_maxs['left-x'])\n",
    "asl.df['left-y-max'] = asl.df['speaker'].map(df_maxs['left-y'])\n",
    "asl.df['right-x-max']= asl.df['speaker'].map(df_maxs['right-x'])\n",
    "asl.df['right-y-max']= asl.df['speaker'].map(df_maxs['right-y'])\n",
    "\n",
    "# Rescaling\n",
    "asl.df['rescale-rx'] = ( asl.df['right-x'] - asl.df['right-x-min']) / ((asl.df['right-x-max'])-asl.df['right-x-min']).fillna(0.0)\n",
    "asl.df['rescale-ry'] = ( asl.df['right-y'] - asl.df['right-y-min']) / ((asl.df['right-y-max'])-asl.df['right-y-min']).fillna(0.0)\n",
    "asl.df['rescale-lx'] = ( asl.df['left-x'] - asl.df['left-x-min']) / ((asl.df['left-x-max'])-asl.df['left-x-min']).fillna(0.0)\n",
    "asl.df['rescale-ly'] = ( asl.df['left-y'] - asl.df['left-y-min']) / ((asl.df['left-y-max'])-asl.df['left-y-min']).fillna(0.0)\n",
    "\n",
    "# TODO define a list named 'features_custom' for building the training set\n",
    "features_custom = ['norm-polar-rr','norm-polar-lr','rescale-rx', 'rescale-ry', 'rescale-lx', 'rescale-ly']\n",
    "\n"
   ]
  },
  {
   "cell_type": "markdown",
   "metadata": {
    "deletable": true,
    "editable": true
   },
   "source": [
    "**Question 1:**  What custom features did you choose for the features_custom set and why?\n",
    "\n",
    "**Answer 1:** Rescaled the features and normalized the polar cordinates. The above steps help in normalizing the data and reducing the range of the features and bringing them to a similar scale, thereby making computation easy.\n"
   ]
  },
  {
   "cell_type": "markdown",
   "metadata": {
    "deletable": true,
    "editable": true
   },
   "source": [
    "# <a id='part1_test'></a>\n",
    "### Features Unit Testing\n",
    "Run the following unit tests as a sanity check on the defined \"ground\", \"norm\", \"polar\", and 'delta\"\n",
    "feature sets.  The test simply looks for some valid values but is not exhaustive.  However, the project should not be submitted if these tests don't pass."
   ]
  },
  {
   "cell_type": "code",
   "execution_count": 49,
   "metadata": {
    "collapsed": false,
    "deletable": true,
    "editable": true
   },
   "outputs": [
    {
     "name": "stderr",
     "output_type": "stream",
     "text": [
      "....\n",
      "----------------------------------------------------------------------\n",
      "Ran 4 tests in 0.016s\n",
      "\n",
      "OK\n"
     ]
    },
    {
     "data": {
      "text/plain": [
       "<unittest.runner.TextTestResult run=4 errors=0 failures=0>"
      ]
     },
     "execution_count": 49,
     "metadata": {},
     "output_type": "execute_result"
    }
   ],
   "source": [
    "import unittest\n",
    "# import numpy as np\n",
    "\n",
    "class TestFeatures(unittest.TestCase):\n",
    "\n",
    "    def test_features_ground(self):\n",
    "        sample = (asl.df.ix[98, 1][features_ground]).tolist()\n",
    "        self.assertEqual(sample, [9, 113, -12, 119])\n",
    "\n",
    "    def test_features_norm(self):\n",
    "        sample = (asl.df.ix[98, 1][features_norm]).tolist()\n",
    "        np.testing.assert_almost_equal(sample, [ 1.153,  1.663, -0.891,  0.742], 3)\n",
    "\n",
    "    def test_features_polar(self):\n",
    "        sample = (asl.df.ix[98,1][features_polar]).tolist()\n",
    "        np.testing.assert_almost_equal(sample, [113.3578, 0.0794, 119.603, -0.1005], 3)\n",
    "\n",
    "    def test_features_delta(self):\n",
    "        sample = (asl.df.ix[98, 0][features_delta]).tolist()\n",
    "        self.assertEqual(sample, [0, 0, 0, 0])\n",
    "        sample = (asl.df.ix[98, 18][features_delta]).tolist()\n",
    "        self.assertTrue(sample in [[-16, -5, -2, 4], [-14, -9, 0, 0]], \"Sample value found was {}\".format(sample))\n",
    "                         \n",
    "suite = unittest.TestLoader().loadTestsFromModule(TestFeatures())\n",
    "unittest.TextTestRunner().run(suite)"
   ]
  },
  {
   "cell_type": "markdown",
   "metadata": {
    "collapsed": true,
    "deletable": true,
    "editable": true
   },
   "source": [
    "<a id='part2_tutorial'></a>\n",
    "## PART 2: Model Selection\n",
    "### Model Selection Tutorial\n",
    "The objective of Model Selection is to tune the number of states for each word HMM prior to testing on unseen data.  In this section you will explore three methods: \n",
    "- Log likelihood using cross-validation folds (CV)\n",
    "- Bayesian Information Criterion (BIC)\n",
    "- Discriminative Information Criterion (DIC) "
   ]
  },
  {
   "cell_type": "markdown",
   "metadata": {
    "deletable": true,
    "editable": true
   },
   "source": [
    "##### Train a single word\n",
    "Now that we have built a training set with sequence data, we can \"train\" models for each word.  As a simple starting example, we train a single word using Gaussian hidden Markov models (HMM).   By using the `fit` method during training, the [Baum-Welch Expectation-Maximization](https://en.wikipedia.org/wiki/Baum%E2%80%93Welch_algorithm) (EM) algorithm is invoked iteratively to find the best estimate for the model *for the number of hidden states specified* from a group of sample seequences. For this example, we *assume* the correct number of hidden states is 3, but that is just a guess.  How do we know what the \"best\" number of states for training is?  We will need to find some model selection technique to choose the best parameter."
   ]
  },
  {
   "cell_type": "code",
   "execution_count": 68,
   "metadata": {
    "collapsed": false
   },
   "outputs": [],
   "source": [
    "training = asl.build_training(features_ground)  \n",
    "#X, lengths = training.get_word_Xlengths(word)\n",
    "#training.words"
   ]
  },
  {
   "cell_type": "code",
   "execution_count": 72,
   "metadata": {
    "collapsed": false
   },
   "outputs": [
    {
     "data": {
      "text/plain": [
       "-18266.910547407202"
      ]
     },
     "execution_count": 72,
     "metadata": {},
     "output_type": "execute_result"
    }
   ],
   "source": [
    "#work around cell\n",
    "import warnings\n",
    "from hmmlearn.hmm import GaussianHMM\n",
    "warnings.filterwarnings(\"ignore\", category=DeprecationWarning)\n",
    "training.words\n",
    "X, lengths = training.get_word_Xlengths('JOHN')\n",
    "#lengths\n",
    "m = GaussianHMM(n_components=3, n_iter=1000).fit(X, lengths)\n",
    "logL = m.score(X, lengths)\n",
    "logL"
   ]
  },
  {
   "cell_type": "code",
   "execution_count": 103,
   "metadata": {
    "collapsed": false
   },
   "outputs": [
    {
     "data": {
      "text/plain": [
       "2"
      ]
     },
     "execution_count": 103,
     "metadata": {},
     "output_type": "execute_result"
    }
   ],
   "source": [
    "#work around cell\n",
    "features_ground\n",
    "X.shape[0]\n",
    "#sum(X)\n",
    "#len(X)\n",
    "sum(lengths)\n",
    "x=[3,5,1,7,8]\n",
    "import numpy as np\n",
    "np.argmin(x)\n",
    "0+2"
   ]
  },
  {
   "cell_type": "code",
   "execution_count": 73,
   "metadata": {
    "collapsed": false,
    "deletable": true,
    "editable": true
   },
   "outputs": [
    {
     "name": "stdout",
     "output_type": "stream",
     "text": [
      "Number of states trained in model for BOOK is 3\n",
      "logL = -2331.1138127433187\n"
     ]
    }
   ],
   "source": [
    "import warnings\n",
    "from hmmlearn.hmm import GaussianHMM\n",
    "\n",
    "def train_a_word(word, num_hidden_states, features):\n",
    "    \n",
    "    warnings.filterwarnings(\"ignore\", category=DeprecationWarning)\n",
    "    training = asl.build_training(features)  \n",
    "    X, lengths = training.get_word_Xlengths(word)\n",
    "    model = GaussianHMM(n_components=num_hidden_states, n_iter=1000).fit(X, lengths)\n",
    "    logL = model.score(X, lengths)\n",
    "    return model, logL\n",
    "\n",
    "demoword = 'BOOK'\n",
    "model, logL = train_a_word(demoword, 3, features_ground)\n",
    "print(\"Number of states trained in model for {} is {}\".format(demoword, model.n_components))\n",
    "print(\"logL = {}\".format(logL))"
   ]
  },
  {
   "cell_type": "markdown",
   "metadata": {
    "deletable": true,
    "editable": true
   },
   "source": [
    "The HMM model has been trained and information can be pulled from the model, including means and variances for each feature and hidden state.  The [log likelihood](http://math.stackexchange.com/questions/892832/why-we-consider-log-likelihood-instead-of-likelihood-in-gaussian-distribution) for any individual sample or group of samples can also be calculated with the `score` method."
   ]
  },
  {
   "cell_type": "code",
   "execution_count": 74,
   "metadata": {
    "collapsed": false,
    "deletable": true,
    "editable": true
   },
   "outputs": [
    {
     "name": "stdout",
     "output_type": "stream",
     "text": [
      "Number of states trained in model for BOOK is 3\n",
      "hidden state #0\n",
      "mean =  [ -1.12415027  69.44164191  17.02866283  77.7231196 ]\n",
      "variance =  [ 19.70434594  16.83041492  30.51552305  11.03678246]\n",
      "\n",
      "hidden state #1\n",
      "mean =  [ -11.45300909   94.109178     19.03512475  102.2030162 ]\n",
      "variance =  [  77.403668    203.35441965   26.68898447  156.12444034]\n",
      "\n",
      "hidden state #2\n",
      "mean =  [ -3.46504869  50.66686933  14.02391587  52.04731066]\n",
      "variance =  [ 49.12346305  43.04799144  39.35109609  47.24195772]\n",
      "\n"
     ]
    }
   ],
   "source": [
    "def show_model_stats(word, model):\n",
    "    print(\"Number of states trained in model for {} is {}\".format(word, model.n_components))    \n",
    "    variance=np.array([np.diag(model.covars_[i]) for i in range(model.n_components)])    \n",
    "    for i in range(model.n_components):  # for each hidden state\n",
    "        print(\"hidden state #{}\".format(i))\n",
    "        print(\"mean = \", model.means_[i])\n",
    "        print(\"variance = \", variance[i])\n",
    "        print()\n",
    "    \n",
    "show_model_stats(demoword, model)"
   ]
  },
  {
   "cell_type": "markdown",
   "metadata": {
    "deletable": true,
    "editable": true
   },
   "source": [
    "##### Try it!\n",
    "Experiment by changing the feature set, word, and/or num_hidden_states values in the next cell to see changes in values.  "
   ]
  },
  {
   "cell_type": "code",
   "execution_count": 76,
   "metadata": {
    "collapsed": false,
    "deletable": true,
    "editable": true
   },
   "outputs": [
    {
     "name": "stdout",
     "output_type": "stream",
     "text": [
      "Number of states trained in model for JOHN is 3\n",
      "hidden state #0\n",
      "mean =  [ -11.7408851    77.82681668    4.81285139  134.10189748]\n",
      "variance =  [  86.14500669  328.74048785  313.66048313  140.88634919]\n",
      "\n",
      "hidden state #1\n",
      "mean =  [ -21.021061     38.51024848    1.39270426  126.26889606]\n",
      "variance =  [  52.50015648   98.66709622  168.30770438  300.17991637]\n",
      "\n",
      "hidden state #2\n",
      "mean =  [ -24.92747926   61.93716342   33.40672725  178.81045936]\n",
      "variance =  [  80.27423577  400.10409204   82.68869582   16.54418295]\n",
      "\n",
      "logL = -18266.910547407126\n"
     ]
    }
   ],
   "source": [
    "my_testword = 'JOHN'\n",
    "model, logL = train_a_word(my_testword, 3, features_ground) # Experiment here with different parameters\n",
    "show_model_stats(my_testword, model)\n",
    "print(\"logL = {}\".format(logL))"
   ]
  },
  {
   "cell_type": "markdown",
   "metadata": {
    "deletable": true,
    "editable": true
   },
   "source": [
    "##### Visualize the hidden states\n",
    "We can plot the means and variances for each state and feature.  Try varying the number of states trained for the HMM model and examine the variances.  Are there some models that are \"better\" than others?  How can you tell?  We would like to hear what you think in the classroom online."
   ]
  },
  {
   "cell_type": "code",
   "execution_count": 77,
   "metadata": {
    "collapsed": false,
    "deletable": true,
    "editable": true
   },
   "outputs": [],
   "source": [
    "%matplotlib inline"
   ]
  },
  {
   "cell_type": "code",
   "execution_count": 78,
   "metadata": {
    "collapsed": false,
    "deletable": true,
    "editable": true
   },
   "outputs": [
    {
     "data": {
      "image/png": "[encoded data removed]",
      "text/plain": [
       "<matplotlib.figure.Figure at 0xcc2e470>"
      ]
     },
     "metadata": {},
     "output_type": "display_data"
    },
    {
     "data": {
      "image/png": "[encoded data removed]",
      "text/plain": [
       "<matplotlib.figure.Figure at 0xcd83e48>"
      ]
     },
     "metadata": {},
     "output_type": "display_data"
    },
    {
     "data": {
      "image/png": "[encoded data removed]",
      "text/plain": [
       "<matplotlib.figure.Figure at 0xcecfc18>"
      ]
     },
     "metadata": {},
     "output_type": "display_data"
    },
    {
     "data": {
      "image/png": "[encoded data removed]",
      "text/plain": [
       "<matplotlib.figure.Figure at 0xd017588>"
      ]
     },
     "metadata": {},
     "output_type": "display_data"
    }
   ],
   "source": [
    "import math\n",
    "from matplotlib import (cm, pyplot as plt, mlab)\n",
    "\n",
    "def visualize(word, model):\n",
    "    \"\"\" visualize the input model for a particular word \"\"\"\n",
    "    variance=np.array([np.diag(model.covars_[i]) for i in range(model.n_components)])\n",
    "    figures = []\n",
    "    for parm_idx in range(len(model.means_[0])):\n",
    "        xmin = int(min(model.means_[:,parm_idx]) - max(variance[:,parm_idx]))\n",
    "        xmax = int(max(model.means_[:,parm_idx]) + max(variance[:,parm_idx]))\n",
    "        fig, axs = plt.subplots(model.n_components, sharex=True, sharey=False)\n",
    "        colours = cm.rainbow(np.linspace(0, 1, model.n_components))\n",
    "        for i, (ax, colour) in enumerate(zip(axs, colours)):\n",
    "            x = np.linspace(xmin, xmax, 100)\n",
    "            mu = model.means_[i,parm_idx]\n",
    "            sigma = math.sqrt(np.diag(model.covars_[i])[parm_idx])\n",
    "            ax.plot(x, mlab.normpdf(x, mu, sigma), c=colour)\n",
    "            ax.set_title(\"{} feature {} hidden state #{}\".format(word, parm_idx, i))\n",
    "\n",
    "            ax.grid(True)\n",
    "        figures.append(plt)\n",
    "    for p in figures:\n",
    "        p.show()\n",
    "        \n",
    "visualize(my_testword, model)"
   ]
  },
  {
   "cell_type": "markdown",
   "metadata": {
    "deletable": true,
    "editable": true
   },
   "source": [
    "#####  ModelSelector class\n",
    "Review the `ModelSelector` class from the codebase found in the `my_model_selectors.py` module.  It is designed to be a strategy pattern for choosing different model selectors.  For the project submission in this section, subclass `SelectorModel` to implement the following model selectors.  In other words, you will write your own classes/functions in the `my_model_selectors.py` module and run them from this notebook:\n",
    "\n",
    "- `SelectorCV `:  Log likelihood with CV\n",
    "- `SelectorBIC`: BIC \n",
    "- `SelectorDIC`: DIC\n",
    "\n",
    "You will train each word in the training set with a range of values for the number of hidden states, and then score these alternatives with the model selector, choosing the \"best\" according to each strategy. The simple case of training with a constant value for `n_components` can be called using the provided `SelectorConstant` subclass as follow:"
   ]
  },
  {
   "cell_type": "code",
   "execution_count": 80,
   "metadata": {
    "collapsed": false,
    "deletable": true,
    "editable": true
   },
   "outputs": [
    {
     "name": "stdout",
     "output_type": "stream",
     "text": [
      "Number of states trained in model for VEGETABLE is 3\n"
     ]
    }
   ],
   "source": [
    "from my_model_selectors import SelectorConstant\n",
    "\n",
    "training = asl.build_training(features_ground)  # Experiment here with different feature sets defined in part 1\n",
    "word = 'VEGETABLE' # Experiment here with different words\n",
    "model = SelectorConstant(training.get_all_sequences(), training.get_all_Xlengths(), word, n_constant=3).select()\n",
    "print(\"Number of states trained in model for {} is {}\".format(word, model.n_components))"
   ]
  },
  {
   "cell_type": "markdown",
   "metadata": {
    "deletable": true,
    "editable": true
   },
   "source": [
    "##### Cross-validation folds\n",
    "If we simply score the model with the Log Likelihood calculated from the feature sequences it has been trained on, we should expect that more complex models will have higher likelihoods. However, that doesn't tell us which would have a better likelihood score on unseen data.  The model will likely be overfit as complexity is added.  To estimate which topology model is better using only the training data, we can compare scores using cross-validation.  One technique for cross-validation is to break the training set into \"folds\" and rotate which fold is left out of training.  The \"left out\" fold scored.  This gives us a proxy method of finding the best model to use on \"unseen data\". In the following example, a set of word sequences is broken into three folds using the [scikit-learn Kfold](http://scikit-learn.org/stable/modules/generated/sklearn.model_selection.KFold.html) class object. When you implement `SelectorCV`, you will use this technique."
   ]
  },
  {
   "cell_type": "code",
   "execution_count": 120,
   "metadata": {
    "collapsed": false,
    "deletable": true,
    "editable": true
   },
   "outputs": [
    {
     "name": "stdout",
     "output_type": "stream",
     "text": [
      "Train fold indices:[2 3 4 5] Test fold indices:[0 1]\n",
      "Train fold indices:[0 1 4 5] Test fold indices:[2 3]\n",
      "Train fold indices:[0 1 2 3] Test fold indices:[4 5]\n"
     ]
    }
   ],
   "source": [
    "from sklearn.model_selection import KFold\n",
    "\n",
    "training = asl.build_training(features_ground) # Experiment here with different feature sets\n",
    "word = 'VEGETABLE' # Experiment here with different words\n",
    "word_sequences = training.get_word_sequences(word)\n",
    "#print(word_sequences)\n",
    "split_method = KFold()\n",
    "for cv_train_idx, cv_test_idx in split_method.split(word_sequences):\n",
    "    print(\"Train fold indices:{} Test fold indices:{}\".format(cv_train_idx, cv_test_idx))  # view indices of the folds"
   ]
  },
  {
   "cell_type": "markdown",
   "metadata": {
    "deletable": true,
    "editable": true
   },
   "source": [
    "**Tip:** In order to run `hmmlearn` training using the X,lengths tuples on the new folds, subsets must be combined based on the indices given for the folds.  A helper utility has been provided in the `asl_utils` module named `combine_sequences` for this purpose."
   ]
  },
  {
   "cell_type": "markdown",
   "metadata": {
    "deletable": true,
    "editable": true
   },
   "source": [
    "##### Scoring models with other criterion\n",
    "Scoring model topologies with **BIC** balances fit and complexity within the training set for each word.  In the BIC equation, a penalty term penalizes complexity to avoid overfitting, so that it is not necessary to also use cross-validation in the selection process.  There are a number of references on the internet for this criterion.  These [slides](http://www2.imm.dtu.dk/courses/02433/doc/ch6_slides.pdf) include a formula you may find helpful for your implementation.\n",
    "\n",
    "The advantages of scoring model topologies with **DIC** over BIC are presented by Alain Biem in this [reference](http://citeseerx.ist.psu.edu/viewdoc/download?doi=10.1.1.58.6208&rep=rep1&type=pdf) (also found [here](https://pdfs.semanticscholar.org/ed3d/7c4a5f607201f3848d4c02dd9ba17c791fc2.pdf)).  DIC scores the discriminant ability of a training set for one word against competing words.  Instead of a penalty term for complexity, it provides a penalty if model liklihoods for non-matching words are too similar to model likelihoods for the correct word in the word set."
   ]
  },
  {
   "cell_type": "markdown",
   "metadata": {
    "deletable": true,
    "editable": true
   },
   "source": [
    "<a id='part2_submission'></a>\n",
    "### Model Selection Implementation Submission\n",
    "Implement `SelectorCV`, `SelectorBIC`, and `SelectorDIC` classes in the `my_model_selectors.py` module.  Run the selectors on the following five words. Then answer the questions about your results.\n",
    "\n",
    "**Tip:** The `hmmlearn` library may not be able to train or score all models.  Implement try/except contructs as necessary to eliminate non-viable models from consideration."
   ]
  },
  {
   "cell_type": "code",
   "execution_count": 104,
   "metadata": {
    "collapsed": false,
    "deletable": true,
    "editable": true
   },
   "outputs": [],
   "source": [
    "words_to_train = ['FISH', 'BOOK', 'VEGETABLE', 'FUTURE', 'JOHN']\n",
    "import timeit"
   ]
  },
  {
   "cell_type": "code",
   "execution_count": 105,
   "metadata": {
    "collapsed": false,
    "deletable": true,
    "editable": true
   },
   "outputs": [
    {
     "name": "stdout",
     "output_type": "stream",
     "text": [
      "The autoreload extension is already loaded. To reload it, use:\n",
      "  %reload_ext autoreload\n"
     ]
    }
   ],
   "source": [
    "# autoreload for automatically reloading changes made in my_model_selectors and my_recognizer\n",
    "%load_ext autoreload\n",
    "%autoreload 2"
   ]
  },
  {
   "cell_type": "code",
   "execution_count": 180,
   "metadata": {
    "collapsed": false,
    "deletable": true,
    "editable": true
   },
   "outputs": [
    {
     "name": "stdout",
     "output_type": "stream",
     "text": [
      "Training complete for FISH with 7 states with time 0.5435780205807532 seconds\n",
      "Training complete for BOOK with 5 states with time 6.323160542873666 seconds\n",
      "Training complete for VEGETABLE with 2 states with time 2.4039915350149386 seconds\n",
      "Training complete for FUTURE with 2 states with time 6.593054564844351 seconds\n",
      "Training complete for JOHN with 12 states with time 59.251596657435584 seconds\n"
     ]
    }
   ],
   "source": [
    "# TODO: Implement SelectorCV in my_model_selector.py\n",
    "from my_model_selectors import SelectorCV\n",
    "\n",
    "training = asl.build_training(features_ground)  # Experiment here with different feature sets defined in part 1\n",
    "sequences = training.get_all_sequences()\n",
    "Xlengths = training.get_all_Xlengths()\n",
    "for word in words_to_train:\n",
    "    start = timeit.default_timer()\n",
    "    model = SelectorCV(sequences, Xlengths, word, \n",
    "                    min_n_components=2, max_n_components=15, random_state = 14).select()\n",
    "    end = timeit.default_timer()-start\n",
    "    if model is not None:\n",
    "        print(\"Training complete for {} with {} states with time {} seconds\".format(word, model.n_components, end))\n",
    "    else:\n",
    "        print(\"Training failed for {}\".format(word))"
   ]
  },
  {
   "cell_type": "code",
   "execution_count": 118,
   "metadata": {
    "collapsed": false,
    "deletable": true,
    "editable": true
   },
   "outputs": [
    {
     "name": "stdout",
     "output_type": "stream",
     "text": [
      "Training complete for FISH with 3 states with time 0.3986955943346402 seconds\n",
      "Training complete for BOOK with 6 states with time 2.712034804151699 seconds\n",
      "Training complete for VEGETABLE with 3 states with time 0.9024565569825427 seconds\n",
      "Training complete for FUTURE with 5 states with time 2.1537780749795274 seconds\n",
      "Training complete for JOHN with 15 states with time 29.03126405056537 seconds\n"
     ]
    }
   ],
   "source": [
    "# TODO: Implement SelectorBIC in module my_model_selectors.py\n",
    "from my_model_selectors import SelectorBIC\n",
    "\n",
    "training = asl.build_training(features_custom)  # Experiment here with different feature sets defined in part 1\n",
    "sequences = training.get_all_sequences()\n",
    "Xlengths = training.get_all_Xlengths()\n",
    "for word in words_to_train:\n",
    "    start = timeit.default_timer()\n",
    "    model = SelectorBIC(sequences, Xlengths, word, \n",
    "                    min_n_components=2, max_n_components=15, random_state = 14).select()\n",
    "    end = timeit.default_timer()-start\n",
    "    if model is not None:\n",
    "        print(\"Training complete for {} with {} states with time {} seconds\".format(word, model.n_components, end))\n",
    "    else:\n",
    "        print(\"Training failed for {}\".format(word))"
   ]
  },
  {
   "cell_type": "code",
   "execution_count": 121,
   "metadata": {
    "collapsed": false,
    "deletable": true,
    "editable": true
   },
   "outputs": [
    {
     "name": "stdout",
     "output_type": "stream",
     "text": [
      "Training complete for FISH with 3 states with time 1.150840754267847 seconds\n",
      "Training complete for BOOK with 15 states with time 5.525160257864627 seconds\n",
      "Training complete for VEGETABLE with 15 states with time 3.7490045439444657 seconds\n",
      "Training complete for FUTURE with 15 states with time 5.386245633591898 seconds\n",
      "Training complete for JOHN with 15 states with time 26.202597363635505 seconds\n"
     ]
    }
   ],
   "source": [
    "# TODO: Implement SelectorDIC in module my_model_selectors.py\n",
    "from my_model_selectors import SelectorDIC\n",
    "\n",
    "training = asl.build_training(features_ground)  # Experiment here with different feature sets defined in part 1\n",
    "sequences = training.get_all_sequences()\n",
    "Xlengths = training.get_all_Xlengths()\n",
    "for word in words_to_train:\n",
    "    start = timeit.default_timer()\n",
    "    model = SelectorDIC(sequences, Xlengths, word, \n",
    "                    min_n_components=2, max_n_components=15, random_state = 14).select()\n",
    "    end = timeit.default_timer()-start\n",
    "    if model is not None:\n",
    "        print(\"Training complete for {} with {} states with time {} seconds\".format(word, model.n_components, end))\n",
    "    else:\n",
    "        print(\"Training failed for {}\".format(word))"
   ]
  },
  {
   "cell_type": "markdown",
   "metadata": {
    "deletable": true,
    "editable": true
   },
   "source": [
    "**Question 2:**  Compare and contrast the possible advantages and disadvantages of the various model selectors implemented.\n",
    "\n",
    "**Answer 2:** Cross validation is generally a very good method to counter the problem of overfitting and decreasing the model complexity. Cross validation tries to generalize the model parameters by splitting the training dataset into k folds i.e. multiple (K-1) train folds and a test set, it then cyclically iterates through these folds and computes scores, the average score from all the folds is considered as a good parameter estimate. Cross validation works well when the amount of data at hand is more for our problem we are trying to CV for each word and some words might be sparsely distributed there by making this technique a little weaker than BIC and DIC. \n",
    "\n",
    "BIC is somewhat similar to CV in theory, it also tries to attack the problem of overfitting by penalize the model with complex parameters and choosing a simpler model with similar likelihood. It is different from CV in the way it is trained, unlike CV it is trained on the entire dataset.\n",
    "\n",
    "DIC uses a Discriminative policy and tries to solve the problem of classifying the words and it does that by choosing the model that yields the largest difference in likelihood of a word compared to the average log likelihood of the rest of the words in the training data. similat to BIC it also uses the entire training set to train. it is different from BIC and CV in a way that it does not emphazize on the problem of overfitting at all.\n",
    "\n",
    "For the above dataset DIC is the slowest in computation behind BIC and CV. \n",
    "\n"
   ]
  },
  {
   "cell_type": "markdown",
   "metadata": {
    "deletable": true,
    "editable": true
   },
   "source": [
    "<a id='part2_test'></a>\n",
    "### Model Selector Unit Testing\n",
    "Run the following unit tests as a sanity check on the implemented model selectors.  The test simply looks for valid interfaces  but is not exhaustive. However, the project should not be submitted if these tests don't pass."
   ]
  },
  {
   "cell_type": "code",
   "execution_count": 147,
   "metadata": {
    "collapsed": false,
    "deletable": true,
    "editable": true
   },
   "outputs": [
    {
     "name": "stderr",
     "output_type": "stream",
     "text": [
      "....\n",
      "----------------------------------------------------------------------\n",
      "Ran 4 tests in 53.497s\n",
      "\n",
      "OK\n"
     ]
    },
    {
     "data": {
      "text/plain": [
       "<unittest.runner.TextTestResult run=4 errors=0 failures=0>"
      ]
     },
     "execution_count": 147,
     "metadata": {},
     "output_type": "execute_result"
    }
   ],
   "source": [
    "from asl_test_model_selectors import TestSelectors\n",
    "suite = unittest.TestLoader().loadTestsFromModule(TestSelectors())\n",
    "unittest.TextTestRunner().run(suite)"
   ]
  },
  {
   "cell_type": "markdown",
   "metadata": {
    "collapsed": false,
    "deletable": true,
    "editable": true
   },
   "source": [
    "<a id='part3_tutorial'></a>\n",
    "## PART 3: Recognizer\n",
    "The objective of this section is to \"put it all together\".  Using the four feature sets created and the three model selectors, you will experiment with the models and present your results.  Instead of training only five specific words as in the previous section, train the entire set with a feature set and model selector strategy.  \n",
    "### Recognizer Tutorial\n",
    "##### Train the full training set\n",
    "The following example trains the entire set with the example `features_ground` and `SelectorConstant` features and model selector.  Use this pattern for you experimentation and final submission cells.\n",
    "\n"
   ]
  },
  {
   "cell_type": "code",
   "execution_count": 149,
   "metadata": {
    "collapsed": false,
    "deletable": true,
    "editable": true
   },
   "outputs": [
    {
     "name": "stdout",
     "output_type": "stream",
     "text": [
      "Number of word models returned = 112\n"
     ]
    },
    {
     "data": {
      "text/plain": [
       "{'ALL': GaussianHMM(algorithm='viterbi', covariance_type='diag', covars_prior=0.01,\n",
       "       covars_weight=1, init_params='stmc', means_prior=0, means_weight=0,\n",
       "       min_covar=0.001, n_components=3, n_iter=1000, params='stmc',\n",
       "       random_state=14, startprob_prior=1.0, tol=0.01, transmat_prior=1.0,\n",
       "       verbose=False),\n",
       " 'ANN': GaussianHMM(algorithm='viterbi', covariance_type='diag', covars_prior=0.01,\n",
       "       covars_weight=1, init_params='stmc', means_prior=0, means_weight=0,\n",
       "       min_covar=0.001, n_components=3, n_iter=1000, params='stmc',\n",
       "       random_state=14, startprob_prior=1.0, tol=0.01, transmat_prior=1.0,\n",
       "       verbose=False),\n",
       " 'APPLE': GaussianHMM(algorithm='viterbi', covariance_type='diag', covars_prior=0.01,\n",
       "       covars_weight=1, init_params='stmc', means_prior=0, means_weight=0,\n",
       "       min_covar=0.001, n_components=3, n_iter=1000, params='stmc',\n",
       "       random_state=14, startprob_prior=1.0, tol=0.01, transmat_prior=1.0,\n",
       "       verbose=False),\n",
       " 'ARRIVE': GaussianHMM(algorithm='viterbi', covariance_type='diag', covars_prior=0.01,\n",
       "       covars_weight=1, init_params='stmc', means_prior=0, means_weight=0,\n",
       "       min_covar=0.001, n_components=3, n_iter=1000, params='stmc',\n",
       "       random_state=14, startprob_prior=1.0, tol=0.01, transmat_prior=1.0,\n",
       "       verbose=False),\n",
       " 'BILL': GaussianHMM(algorithm='viterbi', covariance_type='diag', covars_prior=0.01,\n",
       "       covars_weight=1, init_params='stmc', means_prior=0, means_weight=0,\n",
       "       min_covar=0.001, n_components=3, n_iter=1000, params='stmc',\n",
       "       random_state=14, startprob_prior=1.0, tol=0.01, transmat_prior=1.0,\n",
       "       verbose=False),\n",
       " 'BLAME': GaussianHMM(algorithm='viterbi', covariance_type='diag', covars_prior=0.01,\n",
       "       covars_weight=1, init_params='stmc', means_prior=0, means_weight=0,\n",
       "       min_covar=0.001, n_components=3, n_iter=1000, params='stmc',\n",
       "       random_state=14, startprob_prior=1.0, tol=0.01, transmat_prior=1.0,\n",
       "       verbose=False),\n",
       " 'BLUE': GaussianHMM(algorithm='viterbi', covariance_type='diag', covars_prior=0.01,\n",
       "       covars_weight=1, init_params='stmc', means_prior=0, means_weight=0,\n",
       "       min_covar=0.001, n_components=3, n_iter=1000, params='stmc',\n",
       "       random_state=14, startprob_prior=1.0, tol=0.01, transmat_prior=1.0,\n",
       "       verbose=False),\n",
       " 'BOOK': GaussianHMM(algorithm='viterbi', covariance_type='diag', covars_prior=0.01,\n",
       "       covars_weight=1, init_params='stmc', means_prior=0, means_weight=0,\n",
       "       min_covar=0.001, n_components=3, n_iter=1000, params='stmc',\n",
       "       random_state=14, startprob_prior=1.0, tol=0.01, transmat_prior=1.0,\n",
       "       verbose=False),\n",
       " 'BORROW': GaussianHMM(algorithm='viterbi', covariance_type='diag', covars_prior=0.01,\n",
       "       covars_weight=1, init_params='stmc', means_prior=0, means_weight=0,\n",
       "       min_covar=0.001, n_components=3, n_iter=1000, params='stmc',\n",
       "       random_state=14, startprob_prior=1.0, tol=0.01, transmat_prior=1.0,\n",
       "       verbose=False),\n",
       " 'BOX': GaussianHMM(algorithm='viterbi', covariance_type='diag', covars_prior=0.01,\n",
       "       covars_weight=1, init_params='stmc', means_prior=0, means_weight=0,\n",
       "       min_covar=0.001, n_components=3, n_iter=1000, params='stmc',\n",
       "       random_state=14, startprob_prior=1.0, tol=0.01, transmat_prior=1.0,\n",
       "       verbose=False),\n",
       " 'BOY': GaussianHMM(algorithm='viterbi', covariance_type='diag', covars_prior=0.01,\n",
       "       covars_weight=1, init_params='stmc', means_prior=0, means_weight=0,\n",
       "       min_covar=0.001, n_components=3, n_iter=1000, params='stmc',\n",
       "       random_state=14, startprob_prior=1.0, tol=0.01, transmat_prior=1.0,\n",
       "       verbose=False),\n",
       " 'BREAK-DOWN': GaussianHMM(algorithm='viterbi', covariance_type='diag', covars_prior=0.01,\n",
       "       covars_weight=1, init_params='stmc', means_prior=0, means_weight=0,\n",
       "       min_covar=0.001, n_components=3, n_iter=1000, params='stmc',\n",
       "       random_state=14, startprob_prior=1.0, tol=0.01, transmat_prior=1.0,\n",
       "       verbose=False),\n",
       " 'BROCCOLI': GaussianHMM(algorithm='viterbi', covariance_type='diag', covars_prior=0.01,\n",
       "       covars_weight=1, init_params='stmc', means_prior=0, means_weight=0,\n",
       "       min_covar=0.001, n_components=3, n_iter=1000, params='stmc',\n",
       "       random_state=14, startprob_prior=1.0, tol=0.01, transmat_prior=1.0,\n",
       "       verbose=False),\n",
       " 'BROTHER': GaussianHMM(algorithm='viterbi', covariance_type='diag', covars_prior=0.01,\n",
       "       covars_weight=1, init_params='stmc', means_prior=0, means_weight=0,\n",
       "       min_covar=0.001, n_components=3, n_iter=1000, params='stmc',\n",
       "       random_state=14, startprob_prior=1.0, tol=0.01, transmat_prior=1.0,\n",
       "       verbose=False),\n",
       " 'BUT': GaussianHMM(algorithm='viterbi', covariance_type='diag', covars_prior=0.01,\n",
       "       covars_weight=1, init_params='stmc', means_prior=0, means_weight=0,\n",
       "       min_covar=0.001, n_components=3, n_iter=1000, params='stmc',\n",
       "       random_state=14, startprob_prior=1.0, tol=0.01, transmat_prior=1.0,\n",
       "       verbose=False),\n",
       " 'BUY': GaussianHMM(algorithm='viterbi', covariance_type='diag', covars_prior=0.01,\n",
       "       covars_weight=1, init_params='stmc', means_prior=0, means_weight=0,\n",
       "       min_covar=0.001, n_components=3, n_iter=1000, params='stmc',\n",
       "       random_state=14, startprob_prior=1.0, tol=0.01, transmat_prior=1.0,\n",
       "       verbose=False),\n",
       " 'BUY1': GaussianHMM(algorithm='viterbi', covariance_type='diag', covars_prior=0.01,\n",
       "       covars_weight=1, init_params='stmc', means_prior=0, means_weight=0,\n",
       "       min_covar=0.001, n_components=3, n_iter=1000, params='stmc',\n",
       "       random_state=14, startprob_prior=1.0, tol=0.01, transmat_prior=1.0,\n",
       "       verbose=False),\n",
       " 'CAN': GaussianHMM(algorithm='viterbi', covariance_type='diag', covars_prior=0.01,\n",
       "       covars_weight=1, init_params='stmc', means_prior=0, means_weight=0,\n",
       "       min_covar=0.001, n_components=3, n_iter=1000, params='stmc',\n",
       "       random_state=14, startprob_prior=1.0, tol=0.01, transmat_prior=1.0,\n",
       "       verbose=False),\n",
       " 'CANDY': GaussianHMM(algorithm='viterbi', covariance_type='diag', covars_prior=0.01,\n",
       "       covars_weight=1, init_params='stmc', means_prior=0, means_weight=0,\n",
       "       min_covar=0.001, n_components=3, n_iter=1000, params='stmc',\n",
       "       random_state=14, startprob_prior=1.0, tol=0.01, transmat_prior=1.0,\n",
       "       verbose=False),\n",
       " 'CAR': GaussianHMM(algorithm='viterbi', covariance_type='diag', covars_prior=0.01,\n",
       "       covars_weight=1, init_params='stmc', means_prior=0, means_weight=0,\n",
       "       min_covar=0.001, n_components=3, n_iter=1000, params='stmc',\n",
       "       random_state=14, startprob_prior=1.0, tol=0.01, transmat_prior=1.0,\n",
       "       verbose=False),\n",
       " 'CHICAGO': GaussianHMM(algorithm='viterbi', covariance_type='diag', covars_prior=0.01,\n",
       "       covars_weight=1, init_params='stmc', means_prior=0, means_weight=0,\n",
       "       min_covar=0.001, n_components=3, n_iter=1000, params='stmc',\n",
       "       random_state=14, startprob_prior=1.0, tol=0.01, transmat_prior=1.0,\n",
       "       verbose=False),\n",
       " 'CHICKEN': GaussianHMM(algorithm='viterbi', covariance_type='diag', covars_prior=0.01,\n",
       "       covars_weight=1, init_params='stmc', means_prior=0, means_weight=0,\n",
       "       min_covar=0.001, n_components=3, n_iter=1000, params='stmc',\n",
       "       random_state=14, startprob_prior=1.0, tol=0.01, transmat_prior=1.0,\n",
       "       verbose=False),\n",
       " 'CHINA': GaussianHMM(algorithm='viterbi', covariance_type='diag', covars_prior=0.01,\n",
       "       covars_weight=1, init_params='stmc', means_prior=0, means_weight=0,\n",
       "       min_covar=0.001, n_components=3, n_iter=1000, params='stmc',\n",
       "       random_state=14, startprob_prior=1.0, tol=0.01, transmat_prior=1.0,\n",
       "       verbose=False),\n",
       " 'CHOCOLATE': GaussianHMM(algorithm='viterbi', covariance_type='diag', covars_prior=0.01,\n",
       "       covars_weight=1, init_params='stmc', means_prior=0, means_weight=0,\n",
       "       min_covar=0.001, n_components=3, n_iter=1000, params='stmc',\n",
       "       random_state=14, startprob_prior=1.0, tol=0.01, transmat_prior=1.0,\n",
       "       verbose=False),\n",
       " 'COAT': GaussianHMM(algorithm='viterbi', covariance_type='diag', covars_prior=0.01,\n",
       "       covars_weight=1, init_params='stmc', means_prior=0, means_weight=0,\n",
       "       min_covar=0.001, n_components=3, n_iter=1000, params='stmc',\n",
       "       random_state=14, startprob_prior=1.0, tol=0.01, transmat_prior=1.0,\n",
       "       verbose=False),\n",
       " 'CORN': GaussianHMM(algorithm='viterbi', covariance_type='diag', covars_prior=0.01,\n",
       "       covars_weight=1, init_params='stmc', means_prior=0, means_weight=0,\n",
       "       min_covar=0.001, n_components=3, n_iter=1000, params='stmc',\n",
       "       random_state=14, startprob_prior=1.0, tol=0.01, transmat_prior=1.0,\n",
       "       verbose=False),\n",
       " 'CORN1': GaussianHMM(algorithm='viterbi', covariance_type='diag', covars_prior=0.01,\n",
       "       covars_weight=1, init_params='stmc', means_prior=0, means_weight=0,\n",
       "       min_covar=0.001, n_components=3, n_iter=1000, params='stmc',\n",
       "       random_state=14, startprob_prior=1.0, tol=0.01, transmat_prior=1.0,\n",
       "       verbose=False),\n",
       " 'DECIDE': GaussianHMM(algorithm='viterbi', covariance_type='diag', covars_prior=0.01,\n",
       "       covars_weight=1, init_params='stmc', means_prior=0, means_weight=0,\n",
       "       min_covar=0.001, n_components=3, n_iter=1000, params='stmc',\n",
       "       random_state=14, startprob_prior=1.0, tol=0.01, transmat_prior=1.0,\n",
       "       verbose=False),\n",
       " 'EAT': GaussianHMM(algorithm='viterbi', covariance_type='diag', covars_prior=0.01,\n",
       "       covars_weight=1, init_params='stmc', means_prior=0, means_weight=0,\n",
       "       min_covar=0.001, n_components=3, n_iter=1000, params='stmc',\n",
       "       random_state=14, startprob_prior=1.0, tol=0.01, transmat_prior=1.0,\n",
       "       verbose=False),\n",
       " 'FIND': GaussianHMM(algorithm='viterbi', covariance_type='diag', covars_prior=0.01,\n",
       "       covars_weight=1, init_params='stmc', means_prior=0, means_weight=0,\n",
       "       min_covar=0.001, n_components=3, n_iter=1000, params='stmc',\n",
       "       random_state=14, startprob_prior=1.0, tol=0.01, transmat_prior=1.0,\n",
       "       verbose=False),\n",
       " 'FINISH': GaussianHMM(algorithm='viterbi', covariance_type='diag', covars_prior=0.01,\n",
       "       covars_weight=1, init_params='stmc', means_prior=0, means_weight=0,\n",
       "       min_covar=0.001, n_components=3, n_iter=1000, params='stmc',\n",
       "       random_state=14, startprob_prior=1.0, tol=0.01, transmat_prior=1.0,\n",
       "       verbose=False),\n",
       " 'FISH': GaussianHMM(algorithm='viterbi', covariance_type='diag', covars_prior=0.01,\n",
       "       covars_weight=1, init_params='stmc', means_prior=0, means_weight=0,\n",
       "       min_covar=0.001, n_components=3, n_iter=1000, params='stmc',\n",
       "       random_state=14, startprob_prior=1.0, tol=0.01, transmat_prior=1.0,\n",
       "       verbose=False),\n",
       " 'FRANK': GaussianHMM(algorithm='viterbi', covariance_type='diag', covars_prior=0.01,\n",
       "       covars_weight=1, init_params='stmc', means_prior=0, means_weight=0,\n",
       "       min_covar=0.001, n_components=3, n_iter=1000, params='stmc',\n",
       "       random_state=14, startprob_prior=1.0, tol=0.01, transmat_prior=1.0,\n",
       "       verbose=False),\n",
       " 'FRED': GaussianHMM(algorithm='viterbi', covariance_type='diag', covars_prior=0.01,\n",
       "       covars_weight=1, init_params='stmc', means_prior=0, means_weight=0,\n",
       "       min_covar=0.001, n_components=3, n_iter=1000, params='stmc',\n",
       "       random_state=14, startprob_prior=1.0, tol=0.01, transmat_prior=1.0,\n",
       "       verbose=False),\n",
       " 'FRIEND': GaussianHMM(algorithm='viterbi', covariance_type='diag', covars_prior=0.01,\n",
       "       covars_weight=1, init_params='stmc', means_prior=0, means_weight=0,\n",
       "       min_covar=0.001, n_components=3, n_iter=1000, params='stmc',\n",
       "       random_state=14, startprob_prior=1.0, tol=0.01, transmat_prior=1.0,\n",
       "       verbose=False),\n",
       " 'FUTURE': GaussianHMM(algorithm='viterbi', covariance_type='diag', covars_prior=0.01,\n",
       "       covars_weight=1, init_params='stmc', means_prior=0, means_weight=0,\n",
       "       min_covar=0.001, n_components=3, n_iter=1000, params='stmc',\n",
       "       random_state=14, startprob_prior=1.0, tol=0.01, transmat_prior=1.0,\n",
       "       verbose=False),\n",
       " 'FUTURE1': GaussianHMM(algorithm='viterbi', covariance_type='diag', covars_prior=0.01,\n",
       "       covars_weight=1, init_params='stmc', means_prior=0, means_weight=0,\n",
       "       min_covar=0.001, n_components=3, n_iter=1000, params='stmc',\n",
       "       random_state=14, startprob_prior=1.0, tol=0.01, transmat_prior=1.0,\n",
       "       verbose=False),\n",
       " 'GET': GaussianHMM(algorithm='viterbi', covariance_type='diag', covars_prior=0.01,\n",
       "       covars_weight=1, init_params='stmc', means_prior=0, means_weight=0,\n",
       "       min_covar=0.001, n_components=3, n_iter=1000, params='stmc',\n",
       "       random_state=14, startprob_prior=1.0, tol=0.01, transmat_prior=1.0,\n",
       "       verbose=False),\n",
       " 'GIRL': GaussianHMM(algorithm='viterbi', covariance_type='diag', covars_prior=0.01,\n",
       "       covars_weight=1, init_params='stmc', means_prior=0, means_weight=0,\n",
       "       min_covar=0.001, n_components=3, n_iter=1000, params='stmc',\n",
       "       random_state=14, startprob_prior=1.0, tol=0.01, transmat_prior=1.0,\n",
       "       verbose=False),\n",
       " 'GIVE': GaussianHMM(algorithm='viterbi', covariance_type='diag', covars_prior=0.01,\n",
       "       covars_weight=1, init_params='stmc', means_prior=0, means_weight=0,\n",
       "       min_covar=0.001, n_components=3, n_iter=1000, params='stmc',\n",
       "       random_state=14, startprob_prior=1.0, tol=0.01, transmat_prior=1.0,\n",
       "       verbose=False),\n",
       " 'GIVE1': GaussianHMM(algorithm='viterbi', covariance_type='diag', covars_prior=0.01,\n",
       "       covars_weight=1, init_params='stmc', means_prior=0, means_weight=0,\n",
       "       min_covar=0.001, n_components=3, n_iter=1000, params='stmc',\n",
       "       random_state=14, startprob_prior=1.0, tol=0.01, transmat_prior=1.0,\n",
       "       verbose=False),\n",
       " 'GIVE2': GaussianHMM(algorithm='viterbi', covariance_type='diag', covars_prior=0.01,\n",
       "       covars_weight=1, init_params='stmc', means_prior=0, means_weight=0,\n",
       "       min_covar=0.001, n_components=3, n_iter=1000, params='stmc',\n",
       "       random_state=14, startprob_prior=1.0, tol=0.01, transmat_prior=1.0,\n",
       "       verbose=False),\n",
       " 'GIVE3': GaussianHMM(algorithm='viterbi', covariance_type='diag', covars_prior=0.01,\n",
       "       covars_weight=1, init_params='stmc', means_prior=0, means_weight=0,\n",
       "       min_covar=0.001, n_components=3, n_iter=1000, params='stmc',\n",
       "       random_state=14, startprob_prior=1.0, tol=0.01, transmat_prior=1.0,\n",
       "       verbose=False),\n",
       " 'GO': GaussianHMM(algorithm='viterbi', covariance_type='diag', covars_prior=0.01,\n",
       "       covars_weight=1, init_params='stmc', means_prior=0, means_weight=0,\n",
       "       min_covar=0.001, n_components=3, n_iter=1000, params='stmc',\n",
       "       random_state=14, startprob_prior=1.0, tol=0.01, transmat_prior=1.0,\n",
       "       verbose=False),\n",
       " 'GO1': GaussianHMM(algorithm='viterbi', covariance_type='diag', covars_prior=0.01,\n",
       "       covars_weight=1, init_params='stmc', means_prior=0, means_weight=0,\n",
       "       min_covar=0.001, n_components=3, n_iter=1000, params='stmc',\n",
       "       random_state=14, startprob_prior=1.0, tol=0.01, transmat_prior=1.0,\n",
       "       verbose=False),\n",
       " 'GO2': GaussianHMM(algorithm='viterbi', covariance_type='diag', covars_prior=0.01,\n",
       "       covars_weight=1, init_params='stmc', means_prior=0, means_weight=0,\n",
       "       min_covar=0.001, n_components=3, n_iter=1000, params='stmc',\n",
       "       random_state=14, startprob_prior=1.0, tol=0.01, transmat_prior=1.0,\n",
       "       verbose=False),\n",
       " 'GROUP': GaussianHMM(algorithm='viterbi', covariance_type='diag', covars_prior=0.01,\n",
       "       covars_weight=1, init_params='stmc', means_prior=0, means_weight=0,\n",
       "       min_covar=0.001, n_components=3, n_iter=1000, params='stmc',\n",
       "       random_state=14, startprob_prior=1.0, tol=0.01, transmat_prior=1.0,\n",
       "       verbose=False),\n",
       " 'HAVE': GaussianHMM(algorithm='viterbi', covariance_type='diag', covars_prior=0.01,\n",
       "       covars_weight=1, init_params='stmc', means_prior=0, means_weight=0,\n",
       "       min_covar=0.001, n_components=3, n_iter=1000, params='stmc',\n",
       "       random_state=14, startprob_prior=1.0, tol=0.01, transmat_prior=1.0,\n",
       "       verbose=False),\n",
       " 'HERE': GaussianHMM(algorithm='viterbi', covariance_type='diag', covars_prior=0.01,\n",
       "       covars_weight=1, init_params='stmc', means_prior=0, means_weight=0,\n",
       "       min_covar=0.001, n_components=3, n_iter=1000, params='stmc',\n",
       "       random_state=14, startprob_prior=1.0, tol=0.01, transmat_prior=1.0,\n",
       "       verbose=False),\n",
       " 'HIT': GaussianHMM(algorithm='viterbi', covariance_type='diag', covars_prior=0.01,\n",
       "       covars_weight=1, init_params='stmc', means_prior=0, means_weight=0,\n",
       "       min_covar=0.001, n_components=3, n_iter=1000, params='stmc',\n",
       "       random_state=14, startprob_prior=1.0, tol=0.01, transmat_prior=1.0,\n",
       "       verbose=False),\n",
       " 'HOMEWORK': GaussianHMM(algorithm='viterbi', covariance_type='diag', covars_prior=0.01,\n",
       "       covars_weight=1, init_params='stmc', means_prior=0, means_weight=0,\n",
       "       min_covar=0.001, n_components=3, n_iter=1000, params='stmc',\n",
       "       random_state=14, startprob_prior=1.0, tol=0.01, transmat_prior=1.0,\n",
       "       verbose=False),\n",
       " 'HOUSE': GaussianHMM(algorithm='viterbi', covariance_type='diag', covars_prior=0.01,\n",
       "       covars_weight=1, init_params='stmc', means_prior=0, means_weight=0,\n",
       "       min_covar=0.001, n_components=3, n_iter=1000, params='stmc',\n",
       "       random_state=14, startprob_prior=1.0, tol=0.01, transmat_prior=1.0,\n",
       "       verbose=False),\n",
       " 'IX': GaussianHMM(algorithm='viterbi', covariance_type='diag', covars_prior=0.01,\n",
       "       covars_weight=1, init_params='stmc', means_prior=0, means_weight=0,\n",
       "       min_covar=0.001, n_components=3, n_iter=1000, params='stmc',\n",
       "       random_state=14, startprob_prior=1.0, tol=0.01, transmat_prior=1.0,\n",
       "       verbose=False),\n",
       " 'IX-1P': GaussianHMM(algorithm='viterbi', covariance_type='diag', covars_prior=0.01,\n",
       "       covars_weight=1, init_params='stmc', means_prior=0, means_weight=0,\n",
       "       min_covar=0.001, n_components=3, n_iter=1000, params='stmc',\n",
       "       random_state=14, startprob_prior=1.0, tol=0.01, transmat_prior=1.0,\n",
       "       verbose=False),\n",
       " 'JANA': GaussianHMM(algorithm='viterbi', covariance_type='diag', covars_prior=0.01,\n",
       "       covars_weight=1, init_params='stmc', means_prior=0, means_weight=0,\n",
       "       min_covar=0.001, n_components=3, n_iter=1000, params='stmc',\n",
       "       random_state=14, startprob_prior=1.0, tol=0.01, transmat_prior=1.0,\n",
       "       verbose=False),\n",
       " 'JOHN': GaussianHMM(algorithm='viterbi', covariance_type='diag', covars_prior=0.01,\n",
       "       covars_weight=1, init_params='stmc', means_prior=0, means_weight=0,\n",
       "       min_covar=0.001, n_components=3, n_iter=1000, params='stmc',\n",
       "       random_state=14, startprob_prior=1.0, tol=0.01, transmat_prior=1.0,\n",
       "       verbose=False),\n",
       " 'KNOW': GaussianHMM(algorithm='viterbi', covariance_type='diag', covars_prior=0.01,\n",
       "       covars_weight=1, init_params='stmc', means_prior=0, means_weight=0,\n",
       "       min_covar=0.001, n_components=3, n_iter=1000, params='stmc',\n",
       "       random_state=14, startprob_prior=1.0, tol=0.01, transmat_prior=1.0,\n",
       "       verbose=False),\n",
       " 'LAST-WEEK': GaussianHMM(algorithm='viterbi', covariance_type='diag', covars_prior=0.01,\n",
       "       covars_weight=1, init_params='stmc', means_prior=0, means_weight=0,\n",
       "       min_covar=0.001, n_components=3, n_iter=1000, params='stmc',\n",
       "       random_state=14, startprob_prior=1.0, tol=0.01, transmat_prior=1.0,\n",
       "       verbose=False),\n",
       " 'LEAVE': GaussianHMM(algorithm='viterbi', covariance_type='diag', covars_prior=0.01,\n",
       "       covars_weight=1, init_params='stmc', means_prior=0, means_weight=0,\n",
       "       min_covar=0.001, n_components=3, n_iter=1000, params='stmc',\n",
       "       random_state=14, startprob_prior=1.0, tol=0.01, transmat_prior=1.0,\n",
       "       verbose=False),\n",
       " 'LEG': GaussianHMM(algorithm='viterbi', covariance_type='diag', covars_prior=0.01,\n",
       "       covars_weight=1, init_params='stmc', means_prior=0, means_weight=0,\n",
       "       min_covar=0.001, n_components=3, n_iter=1000, params='stmc',\n",
       "       random_state=14, startprob_prior=1.0, tol=0.01, transmat_prior=1.0,\n",
       "       verbose=False),\n",
       " 'LIKE': GaussianHMM(algorithm='viterbi', covariance_type='diag', covars_prior=0.01,\n",
       "       covars_weight=1, init_params='stmc', means_prior=0, means_weight=0,\n",
       "       min_covar=0.001, n_components=3, n_iter=1000, params='stmc',\n",
       "       random_state=14, startprob_prior=1.0, tol=0.01, transmat_prior=1.0,\n",
       "       verbose=False),\n",
       " 'LIVE': GaussianHMM(algorithm='viterbi', covariance_type='diag', covars_prior=0.01,\n",
       "       covars_weight=1, init_params='stmc', means_prior=0, means_weight=0,\n",
       "       min_covar=0.001, n_components=3, n_iter=1000, params='stmc',\n",
       "       random_state=14, startprob_prior=1.0, tol=0.01, transmat_prior=1.0,\n",
       "       verbose=False),\n",
       " 'LOVE': GaussianHMM(algorithm='viterbi', covariance_type='diag', covars_prior=0.01,\n",
       "       covars_weight=1, init_params='stmc', means_prior=0, means_weight=0,\n",
       "       min_covar=0.001, n_components=3, n_iter=1000, params='stmc',\n",
       "       random_state=14, startprob_prior=1.0, tol=0.01, transmat_prior=1.0,\n",
       "       verbose=False),\n",
       " 'MAN': GaussianHMM(algorithm='viterbi', covariance_type='diag', covars_prior=0.01,\n",
       "       covars_weight=1, init_params='stmc', means_prior=0, means_weight=0,\n",
       "       min_covar=0.001, n_components=3, n_iter=1000, params='stmc',\n",
       "       random_state=14, startprob_prior=1.0, tol=0.01, transmat_prior=1.0,\n",
       "       verbose=False),\n",
       " 'MANY': GaussianHMM(algorithm='viterbi', covariance_type='diag', covars_prior=0.01,\n",
       "       covars_weight=1, init_params='stmc', means_prior=0, means_weight=0,\n",
       "       min_covar=0.001, n_components=3, n_iter=1000, params='stmc',\n",
       "       random_state=14, startprob_prior=1.0, tol=0.01, transmat_prior=1.0,\n",
       "       verbose=False),\n",
       " 'MARY': GaussianHMM(algorithm='viterbi', covariance_type='diag', covars_prior=0.01,\n",
       "       covars_weight=1, init_params='stmc', means_prior=0, means_weight=0,\n",
       "       min_covar=0.001, n_components=3, n_iter=1000, params='stmc',\n",
       "       random_state=14, startprob_prior=1.0, tol=0.01, transmat_prior=1.0,\n",
       "       verbose=False),\n",
       " 'MOTHER': GaussianHMM(algorithm='viterbi', covariance_type='diag', covars_prior=0.01,\n",
       "       covars_weight=1, init_params='stmc', means_prior=0, means_weight=0,\n",
       "       min_covar=0.001, n_components=3, n_iter=1000, params='stmc',\n",
       "       random_state=14, startprob_prior=1.0, tol=0.01, transmat_prior=1.0,\n",
       "       verbose=False),\n",
       " 'MOVIE': GaussianHMM(algorithm='viterbi', covariance_type='diag', covars_prior=0.01,\n",
       "       covars_weight=1, init_params='stmc', means_prior=0, means_weight=0,\n",
       "       min_covar=0.001, n_components=3, n_iter=1000, params='stmc',\n",
       "       random_state=14, startprob_prior=1.0, tol=0.01, transmat_prior=1.0,\n",
       "       verbose=False),\n",
       " 'NAME': GaussianHMM(algorithm='viterbi', covariance_type='diag', covars_prior=0.01,\n",
       "       covars_weight=1, init_params='stmc', means_prior=0, means_weight=0,\n",
       "       min_covar=0.001, n_components=3, n_iter=1000, params='stmc',\n",
       "       random_state=14, startprob_prior=1.0, tol=0.01, transmat_prior=1.0,\n",
       "       verbose=False),\n",
       " 'NEW': GaussianHMM(algorithm='viterbi', covariance_type='diag', covars_prior=0.01,\n",
       "       covars_weight=1, init_params='stmc', means_prior=0, means_weight=0,\n",
       "       min_covar=0.001, n_components=3, n_iter=1000, params='stmc',\n",
       "       random_state=14, startprob_prior=1.0, tol=0.01, transmat_prior=1.0,\n",
       "       verbose=False),\n",
       " 'NEW-YORK': GaussianHMM(algorithm='viterbi', covariance_type='diag', covars_prior=0.01,\n",
       "       covars_weight=1, init_params='stmc', means_prior=0, means_weight=0,\n",
       "       min_covar=0.001, n_components=3, n_iter=1000, params='stmc',\n",
       "       random_state=14, startprob_prior=1.0, tol=0.01, transmat_prior=1.0,\n",
       "       verbose=False),\n",
       " 'NEXT-WEEK': GaussianHMM(algorithm='viterbi', covariance_type='diag', covars_prior=0.01,\n",
       "       covars_weight=1, init_params='stmc', means_prior=0, means_weight=0,\n",
       "       min_covar=0.001, n_components=3, n_iter=1000, params='stmc',\n",
       "       random_state=14, startprob_prior=1.0, tol=0.01, transmat_prior=1.0,\n",
       "       verbose=False),\n",
       " 'NOT': GaussianHMM(algorithm='viterbi', covariance_type='diag', covars_prior=0.01,\n",
       "       covars_weight=1, init_params='stmc', means_prior=0, means_weight=0,\n",
       "       min_covar=0.001, n_components=3, n_iter=1000, params='stmc',\n",
       "       random_state=14, startprob_prior=1.0, tol=0.01, transmat_prior=1.0,\n",
       "       verbose=False),\n",
       " 'OLD': GaussianHMM(algorithm='viterbi', covariance_type='diag', covars_prior=0.01,\n",
       "       covars_weight=1, init_params='stmc', means_prior=0, means_weight=0,\n",
       "       min_covar=0.001, n_components=3, n_iter=1000, params='stmc',\n",
       "       random_state=14, startprob_prior=1.0, tol=0.01, transmat_prior=1.0,\n",
       "       verbose=False),\n",
       " 'PARTY': GaussianHMM(algorithm='viterbi', covariance_type='diag', covars_prior=0.01,\n",
       "       covars_weight=1, init_params='stmc', means_prior=0, means_weight=0,\n",
       "       min_covar=0.001, n_components=3, n_iter=1000, params='stmc',\n",
       "       random_state=14, startprob_prior=1.0, tol=0.01, transmat_prior=1.0,\n",
       "       verbose=False),\n",
       " 'PAST': GaussianHMM(algorithm='viterbi', covariance_type='diag', covars_prior=0.01,\n",
       "       covars_weight=1, init_params='stmc', means_prior=0, means_weight=0,\n",
       "       min_covar=0.001, n_components=3, n_iter=1000, params='stmc',\n",
       "       random_state=14, startprob_prior=1.0, tol=0.01, transmat_prior=1.0,\n",
       "       verbose=False),\n",
       " 'PEOPLE': GaussianHMM(algorithm='viterbi', covariance_type='diag', covars_prior=0.01,\n",
       "       covars_weight=1, init_params='stmc', means_prior=0, means_weight=0,\n",
       "       min_covar=0.001, n_components=3, n_iter=1000, params='stmc',\n",
       "       random_state=14, startprob_prior=1.0, tol=0.01, transmat_prior=1.0,\n",
       "       verbose=False),\n",
       " 'POSS': GaussianHMM(algorithm='viterbi', covariance_type='diag', covars_prior=0.01,\n",
       "       covars_weight=1, init_params='stmc', means_prior=0, means_weight=0,\n",
       "       min_covar=0.001, n_components=3, n_iter=1000, params='stmc',\n",
       "       random_state=14, startprob_prior=1.0, tol=0.01, transmat_prior=1.0,\n",
       "       verbose=False),\n",
       " 'POTATO': GaussianHMM(algorithm='viterbi', covariance_type='diag', covars_prior=0.01,\n",
       "       covars_weight=1, init_params='stmc', means_prior=0, means_weight=0,\n",
       "       min_covar=0.001, n_components=3, n_iter=1000, params='stmc',\n",
       "       random_state=14, startprob_prior=1.0, tol=0.01, transmat_prior=1.0,\n",
       "       verbose=False),\n",
       " 'PREFER': GaussianHMM(algorithm='viterbi', covariance_type='diag', covars_prior=0.01,\n",
       "       covars_weight=1, init_params='stmc', means_prior=0, means_weight=0,\n",
       "       min_covar=0.001, n_components=3, n_iter=1000, params='stmc',\n",
       "       random_state=14, startprob_prior=1.0, tol=0.01, transmat_prior=1.0,\n",
       "       verbose=False),\n",
       " 'PUTASIDE': GaussianHMM(algorithm='viterbi', covariance_type='diag', covars_prior=0.01,\n",
       "       covars_weight=1, init_params='stmc', means_prior=0, means_weight=0,\n",
       "       min_covar=0.001, n_components=3, n_iter=1000, params='stmc',\n",
       "       random_state=14, startprob_prior=1.0, tol=0.01, transmat_prior=1.0,\n",
       "       verbose=False),\n",
       " 'READ': GaussianHMM(algorithm='viterbi', covariance_type='diag', covars_prior=0.01,\n",
       "       covars_weight=1, init_params='stmc', means_prior=0, means_weight=0,\n",
       "       min_covar=0.001, n_components=3, n_iter=1000, params='stmc',\n",
       "       random_state=14, startprob_prior=1.0, tol=0.01, transmat_prior=1.0,\n",
       "       verbose=False),\n",
       " 'SAY': GaussianHMM(algorithm='viterbi', covariance_type='diag', covars_prior=0.01,\n",
       "       covars_weight=1, init_params='stmc', means_prior=0, means_weight=0,\n",
       "       min_covar=0.001, n_components=3, n_iter=1000, params='stmc',\n",
       "       random_state=14, startprob_prior=1.0, tol=0.01, transmat_prior=1.0,\n",
       "       verbose=False),\n",
       " 'SAY-1P': GaussianHMM(algorithm='viterbi', covariance_type='diag', covars_prior=0.01,\n",
       "       covars_weight=1, init_params='stmc', means_prior=0, means_weight=0,\n",
       "       min_covar=0.001, n_components=3, n_iter=1000, params='stmc',\n",
       "       random_state=14, startprob_prior=1.0, tol=0.01, transmat_prior=1.0,\n",
       "       verbose=False),\n",
       " 'SEARCH-FOR': GaussianHMM(algorithm='viterbi', covariance_type='diag', covars_prior=0.01,\n",
       "       covars_weight=1, init_params='stmc', means_prior=0, means_weight=0,\n",
       "       min_covar=0.001, n_components=3, n_iter=1000, params='stmc',\n",
       "       random_state=14, startprob_prior=1.0, tol=0.01, transmat_prior=1.0,\n",
       "       verbose=False),\n",
       " 'SEE': GaussianHMM(algorithm='viterbi', covariance_type='diag', covars_prior=0.01,\n",
       "       covars_weight=1, init_params='stmc', means_prior=0, means_weight=0,\n",
       "       min_covar=0.001, n_components=3, n_iter=1000, params='stmc',\n",
       "       random_state=14, startprob_prior=1.0, tol=0.01, transmat_prior=1.0,\n",
       "       verbose=False),\n",
       " 'SELF': GaussianHMM(algorithm='viterbi', covariance_type='diag', covars_prior=0.01,\n",
       "       covars_weight=1, init_params='stmc', means_prior=0, means_weight=0,\n",
       "       min_covar=0.001, n_components=3, n_iter=1000, params='stmc',\n",
       "       random_state=14, startprob_prior=1.0, tol=0.01, transmat_prior=1.0,\n",
       "       verbose=False),\n",
       " 'SELL': GaussianHMM(algorithm='viterbi', covariance_type='diag', covars_prior=0.01,\n",
       "       covars_weight=1, init_params='stmc', means_prior=0, means_weight=0,\n",
       "       min_covar=0.001, n_components=3, n_iter=1000, params='stmc',\n",
       "       random_state=14, startprob_prior=1.0, tol=0.01, transmat_prior=1.0,\n",
       "       verbose=False),\n",
       " 'SHOOT': GaussianHMM(algorithm='viterbi', covariance_type='diag', covars_prior=0.01,\n",
       "       covars_weight=1, init_params='stmc', means_prior=0, means_weight=0,\n",
       "       min_covar=0.001, n_components=3, n_iter=1000, params='stmc',\n",
       "       random_state=14, startprob_prior=1.0, tol=0.01, transmat_prior=1.0,\n",
       "       verbose=False),\n",
       " 'SHOULD': GaussianHMM(algorithm='viterbi', covariance_type='diag', covars_prior=0.01,\n",
       "       covars_weight=1, init_params='stmc', means_prior=0, means_weight=0,\n",
       "       min_covar=0.001, n_components=3, n_iter=1000, params='stmc',\n",
       "       random_state=14, startprob_prior=1.0, tol=0.01, transmat_prior=1.0,\n",
       "       verbose=False),\n",
       " 'SOMETHING-ONE': GaussianHMM(algorithm='viterbi', covariance_type='diag', covars_prior=0.01,\n",
       "       covars_weight=1, init_params='stmc', means_prior=0, means_weight=0,\n",
       "       min_covar=0.001, n_components=3, n_iter=1000, params='stmc',\n",
       "       random_state=14, startprob_prior=1.0, tol=0.01, transmat_prior=1.0,\n",
       "       verbose=False),\n",
       " 'STOLEN': GaussianHMM(algorithm='viterbi', covariance_type='diag', covars_prior=0.01,\n",
       "       covars_weight=1, init_params='stmc', means_prior=0, means_weight=0,\n",
       "       min_covar=0.001, n_components=3, n_iter=1000, params='stmc',\n",
       "       random_state=14, startprob_prior=1.0, tol=0.01, transmat_prior=1.0,\n",
       "       verbose=False),\n",
       " 'STUDENT': GaussianHMM(algorithm='viterbi', covariance_type='diag', covars_prior=0.01,\n",
       "       covars_weight=1, init_params='stmc', means_prior=0, means_weight=0,\n",
       "       min_covar=0.001, n_components=3, n_iter=1000, params='stmc',\n",
       "       random_state=14, startprob_prior=1.0, tol=0.01, transmat_prior=1.0,\n",
       "       verbose=False),\n",
       " 'SUE': GaussianHMM(algorithm='viterbi', covariance_type='diag', covars_prior=0.01,\n",
       "       covars_weight=1, init_params='stmc', means_prior=0, means_weight=0,\n",
       "       min_covar=0.001, n_components=3, n_iter=1000, params='stmc',\n",
       "       random_state=14, startprob_prior=1.0, tol=0.01, transmat_prior=1.0,\n",
       "       verbose=False),\n",
       " 'TEACHER': GaussianHMM(algorithm='viterbi', covariance_type='diag', covars_prior=0.01,\n",
       "       covars_weight=1, init_params='stmc', means_prior=0, means_weight=0,\n",
       "       min_covar=0.001, n_components=3, n_iter=1000, params='stmc',\n",
       "       random_state=14, startprob_prior=1.0, tol=0.01, transmat_prior=1.0,\n",
       "       verbose=False),\n",
       " 'TELL': GaussianHMM(algorithm='viterbi', covariance_type='diag', covars_prior=0.01,\n",
       "       covars_weight=1, init_params='stmc', means_prior=0, means_weight=0,\n",
       "       min_covar=0.001, n_components=3, n_iter=1000, params='stmc',\n",
       "       random_state=14, startprob_prior=1.0, tol=0.01, transmat_prior=1.0,\n",
       "       verbose=False),\n",
       " 'THINK': GaussianHMM(algorithm='viterbi', covariance_type='diag', covars_prior=0.01,\n",
       "       covars_weight=1, init_params='stmc', means_prior=0, means_weight=0,\n",
       "       min_covar=0.001, n_components=3, n_iter=1000, params='stmc',\n",
       "       random_state=14, startprob_prior=1.0, tol=0.01, transmat_prior=1.0,\n",
       "       verbose=False),\n",
       " 'THROW': GaussianHMM(algorithm='viterbi', covariance_type='diag', covars_prior=0.01,\n",
       "       covars_weight=1, init_params='stmc', means_prior=0, means_weight=0,\n",
       "       min_covar=0.001, n_components=3, n_iter=1000, params='stmc',\n",
       "       random_state=14, startprob_prior=1.0, tol=0.01, transmat_prior=1.0,\n",
       "       verbose=False),\n",
       " 'TOMORROW': GaussianHMM(algorithm='viterbi', covariance_type='diag', covars_prior=0.01,\n",
       "       covars_weight=1, init_params='stmc', means_prior=0, means_weight=0,\n",
       "       min_covar=0.001, n_components=3, n_iter=1000, params='stmc',\n",
       "       random_state=14, startprob_prior=1.0, tol=0.01, transmat_prior=1.0,\n",
       "       verbose=False),\n",
       " 'TOY': GaussianHMM(algorithm='viterbi', covariance_type='diag', covars_prior=0.01,\n",
       "       covars_weight=1, init_params='stmc', means_prior=0, means_weight=0,\n",
       "       min_covar=0.001, n_components=3, n_iter=1000, params='stmc',\n",
       "       random_state=14, startprob_prior=1.0, tol=0.01, transmat_prior=1.0,\n",
       "       verbose=False),\n",
       " 'TOY1': GaussianHMM(algorithm='viterbi', covariance_type='diag', covars_prior=0.01,\n",
       "       covars_weight=1, init_params='stmc', means_prior=0, means_weight=0,\n",
       "       min_covar=0.001, n_components=3, n_iter=1000, params='stmc',\n",
       "       random_state=14, startprob_prior=1.0, tol=0.01, transmat_prior=1.0,\n",
       "       verbose=False),\n",
       " 'VEGETABLE': GaussianHMM(algorithm='viterbi', covariance_type='diag', covars_prior=0.01,\n",
       "       covars_weight=1, init_params='stmc', means_prior=0, means_weight=0,\n",
       "       min_covar=0.001, n_components=3, n_iter=1000, params='stmc',\n",
       "       random_state=14, startprob_prior=1.0, tol=0.01, transmat_prior=1.0,\n",
       "       verbose=False),\n",
       " 'VIDEOTAPE': GaussianHMM(algorithm='viterbi', covariance_type='diag', covars_prior=0.01,\n",
       "       covars_weight=1, init_params='stmc', means_prior=0, means_weight=0,\n",
       "       min_covar=0.001, n_components=3, n_iter=1000, params='stmc',\n",
       "       random_state=14, startprob_prior=1.0, tol=0.01, transmat_prior=1.0,\n",
       "       verbose=False),\n",
       " 'VISIT': GaussianHMM(algorithm='viterbi', covariance_type='diag', covars_prior=0.01,\n",
       "       covars_weight=1, init_params='stmc', means_prior=0, means_weight=0,\n",
       "       min_covar=0.001, n_components=3, n_iter=1000, params='stmc',\n",
       "       random_state=14, startprob_prior=1.0, tol=0.01, transmat_prior=1.0,\n",
       "       verbose=False),\n",
       " 'WANT': GaussianHMM(algorithm='viterbi', covariance_type='diag', covars_prior=0.01,\n",
       "       covars_weight=1, init_params='stmc', means_prior=0, means_weight=0,\n",
       "       min_covar=0.001, n_components=3, n_iter=1000, params='stmc',\n",
       "       random_state=14, startprob_prior=1.0, tol=0.01, transmat_prior=1.0,\n",
       "       verbose=False),\n",
       " 'WHAT': GaussianHMM(algorithm='viterbi', covariance_type='diag', covars_prior=0.01,\n",
       "       covars_weight=1, init_params='stmc', means_prior=0, means_weight=0,\n",
       "       min_covar=0.001, n_components=3, n_iter=1000, params='stmc',\n",
       "       random_state=14, startprob_prior=1.0, tol=0.01, transmat_prior=1.0,\n",
       "       verbose=False),\n",
       " 'WHO': GaussianHMM(algorithm='viterbi', covariance_type='diag', covars_prior=0.01,\n",
       "       covars_weight=1, init_params='stmc', means_prior=0, means_weight=0,\n",
       "       min_covar=0.001, n_components=3, n_iter=1000, params='stmc',\n",
       "       random_state=14, startprob_prior=1.0, tol=0.01, transmat_prior=1.0,\n",
       "       verbose=False),\n",
       " 'WILL': GaussianHMM(algorithm='viterbi', covariance_type='diag', covars_prior=0.01,\n",
       "       covars_weight=1, init_params='stmc', means_prior=0, means_weight=0,\n",
       "       min_covar=0.001, n_components=3, n_iter=1000, params='stmc',\n",
       "       random_state=14, startprob_prior=1.0, tol=0.01, transmat_prior=1.0,\n",
       "       verbose=False),\n",
       " 'WOMAN': GaussianHMM(algorithm='viterbi', covariance_type='diag', covars_prior=0.01,\n",
       "       covars_weight=1, init_params='stmc', means_prior=0, means_weight=0,\n",
       "       min_covar=0.001, n_components=3, n_iter=1000, params='stmc',\n",
       "       random_state=14, startprob_prior=1.0, tol=0.01, transmat_prior=1.0,\n",
       "       verbose=False),\n",
       " 'WONT': GaussianHMM(algorithm='viterbi', covariance_type='diag', covars_prior=0.01,\n",
       "       covars_weight=1, init_params='stmc', means_prior=0, means_weight=0,\n",
       "       min_covar=0.001, n_components=3, n_iter=1000, params='stmc',\n",
       "       random_state=14, startprob_prior=1.0, tol=0.01, transmat_prior=1.0,\n",
       "       verbose=False),\n",
       " 'WRITE': GaussianHMM(algorithm='viterbi', covariance_type='diag', covars_prior=0.01,\n",
       "       covars_weight=1, init_params='stmc', means_prior=0, means_weight=0,\n",
       "       min_covar=0.001, n_components=3, n_iter=1000, params='stmc',\n",
       "       random_state=14, startprob_prior=1.0, tol=0.01, transmat_prior=1.0,\n",
       "       verbose=False),\n",
       " 'YESTERDAY': GaussianHMM(algorithm='viterbi', covariance_type='diag', covars_prior=0.01,\n",
       "       covars_weight=1, init_params='stmc', means_prior=0, means_weight=0,\n",
       "       min_covar=0.001, n_components=3, n_iter=1000, params='stmc',\n",
       "       random_state=14, startprob_prior=1.0, tol=0.01, transmat_prior=1.0,\n",
       "       verbose=False)}"
      ]
     },
     "execution_count": 149,
     "metadata": {},
     "output_type": "execute_result"
    }
   ],
   "source": [
    "from my_model_selectors import SelectorConstant\n",
    "\n",
    "def train_all_words(features, model_selector):\n",
    "    training = asl.build_training(features)  # Experiment here with different feature sets defined in part 1\n",
    "    sequences = training.get_all_sequences()\n",
    "    Xlengths = training.get_all_Xlengths()\n",
    "    model_dict = {}\n",
    "    for word in training.words:\n",
    "        model = model_selector(sequences, Xlengths, word, \n",
    "                        n_constant=3).select()\n",
    "        model_dict[word]=model\n",
    "    return model_dict\n",
    "\n",
    "models = train_all_words(features_ground, SelectorConstant)\n",
    "print(\"Number of word models returned = {}\".format(len(models)))\n",
    "#models"
   ]
  },
  {
   "cell_type": "markdown",
   "metadata": {
    "deletable": true,
    "editable": true
   },
   "source": [
    "##### Load the test set\n",
    "The `build_test` method in `ASLdb` is similar to the `build_training` method already presented, but there are a few differences:\n",
    "- the object is type `SinglesData` \n",
    "- the internal dictionary keys are the index of the test word rather than the word itself\n",
    "- the getter methods are `get_all_sequences`, `get_all_Xlengths`, `get_item_sequences` and `get_item_Xlengths`"
   ]
  },
  {
   "cell_type": "code",
   "execution_count": 150,
   "metadata": {
    "collapsed": false,
    "deletable": true,
    "editable": true
   },
   "outputs": [
    {
     "name": "stdout",
     "output_type": "stream",
     "text": [
      "Number of test set items: 178\n",
      "Number of test set sentences: 40\n"
     ]
    }
   ],
   "source": [
    "test_set = asl.build_test(features_ground)\n",
    "print(\"Number of test set items: {}\".format(test_set.num_items))\n",
    "print(\"Number of test set sentences: {}\".format(len(test_set.sentences_index)))"
   ]
  },
  {
   "cell_type": "markdown",
   "metadata": {
    "deletable": true,
    "editable": true
   },
   "source": [
    "<a id='part3_submission'></a>\n",
    "### Recognizer Implementation Submission\n",
    "For the final project submission, students must implement a recognizer following guidance in the `my_recognizer.py` module.  Experiment with the four feature sets and the three model selection methods (that's 12 possible combinations). You can add and remove cells for experimentation or run the recognizers locally in some other way during your experiments, but retain the results for your discussion.  For submission, you will provide code cells of **only three** interesting combinations for your discussion (see questions below). At least one of these should produce a word error rate of less than 60%, i.e. WER < 0.60 . \n",
    "\n",
    "**Tip:** The hmmlearn library may not be able to train or score all models.  Implement try/except contructs as necessary to eliminate non-viable models from consideration."
   ]
  },
  {
   "cell_type": "code",
   "execution_count": 151,
   "metadata": {
    "collapsed": false,
    "deletable": true,
    "editable": true
   },
   "outputs": [],
   "source": [
    "# TODO implement the recognize method in my_recognizer\n",
    "from my_recognizer import recognize\n",
    "from asl_utils import show_errors"
   ]
  },
  {
   "cell_type": "code",
   "execution_count": 178,
   "metadata": {
    "collapsed": false,
    "deletable": true,
    "editable": true
   },
   "outputs": [
    {
     "name": "stdout",
     "output_type": "stream",
     "text": [
      "\n",
      "**** WER = 0.5674157303370787\n",
      "Total correct: 77 out of 178\n",
      "Video  Recognized                                                    Correct\n",
      "=====================================================================================================\n",
      "    2: JOHN WRITE HOMEWORK                                           JOHN WRITE HOMEWORK\n",
      "    7: *SOMETHING-ONE *BUT *MARY *JOHN                               JOHN CAN GO CAN\n",
      "   12: JOHN *CAR *WHAT CAN                                           JOHN CAN GO CAN\n",
      "   21: JOHN *HOMEWORK *HOMEWORK *VEGETABLE *BLAME *CAR *YESTERDAY *MOTHER  JOHN FISH WONT EAT BUT CAN EAT CHICKEN\n",
      "   25: *ANN LIKE IX *ANN *JOHN                                       JOHN LIKE IX IX IX\n",
      "   28: JOHN *ANN *GO *GO *GO                                         JOHN LIKE IX IX IX\n",
      "   30: JOHN LIKE *MARY *LIKE *SHOOT                                  JOHN LIKE IX IX IX\n",
      "   36: MARY VEGETABLE *GIRL *GIVE2 *FRANK *TOY1                      MARY VEGETABLE KNOW IX LIKE CORN1\n",
      "   40: *SOMETHING-ONE *MARY *GIRL *JOHN LOVE                         JOHN IX THINK MARY LOVE\n",
      "   43: JOHN *JOHN BUY HOUSE                                          JOHN MUST BUY HOUSE\n",
      "   50: *JOHN *POSS *WRITE CAR *IX                                    FUTURE JOHN BUY CAR SHOULD\n",
      "   54: JOHN SHOULD NOT BUY HOUSE                                     JOHN SHOULD NOT BUY HOUSE\n",
      "   57: *SHOOT *PREFER *LEAVE MARY                                    JOHN DECIDE VISIT MARY\n",
      "   67: JOHN FUTURE *SHOULD BUY HOUSE                                 JOHN FUTURE NOT BUY HOUSE\n",
      "   71: JOHN *NOT VISIT MARY                                          JOHN WILL VISIT MARY\n",
      "   74: *SHOOT *VEGETABLE *MARY MARY                                  JOHN NOT VISIT MARY\n",
      "   77: *JOHN BLAME MARY                                              ANN BLAME MARY\n",
      "   84: *HOMEWORK *ARRIVE *VISIT BOOK                                 IX-1P FIND SOMETHING-ONE BOOK\n",
      "   89: *THINK *WILL *VISIT *WOMAN IX *HOUSE *BREAK-DOWN              JOHN IX GIVE MAN IX NEW COAT\n",
      "   90: *SOMETHING-ONE *GIVE1 IX *ALL WOMAN *VIDEOTAPE                JOHN GIVE IX SOMETHING-ONE WOMAN BOOK\n",
      "   92: *FRANK *THINK IX *IX *VISIT BOOK                              JOHN GIVE IX SOMETHING-ONE WOMAN BOOK\n",
      "  100: POSS NEW CAR BREAK-DOWN                                       POSS NEW CAR BREAK-DOWN\n",
      "  105: JOHN *TELL                                                    JOHN LEG\n",
      "  107: *MARY *JOHN FRIEND *JOHN *JOHN                                JOHN POSS FRIEND HAVE CANDY\n",
      "  108: *VISIT *HOMEWORK                                              WOMAN ARRIVE\n",
      "  113: *JOHN CAR *SUE *TOY1 *BUY1                                    IX CAR BLUE SUE BUY\n",
      "  119: *VEGETABLE *BUY1 *CAR *ARRIVE *JOHN                           SUE BUY IX CAR BLUE\n",
      "  122: JOHN *GIVE1 BOOK                                              JOHN READ BOOK\n",
      "  139: JOHN *BUY1 *CAN YESTERDAY BOOK                                JOHN BUY WHAT YESTERDAY BOOK\n",
      "  142: JOHN BUY YESTERDAY WHAT *WRITE                                JOHN BUY YESTERDAY WHAT BOOK\n",
      "  158: LOVE *MARY WHO                                                LOVE JOHN WHO\n",
      "  167: JOHN *MARY *LEAVE LOVE MARY                                   JOHN IX SAY LOVE MARY\n",
      "  171: *MARY *JOHN BLAME                                             JOHN MARY BLAME\n",
      "  174: *NEW GROUP GIVE1 *APPLE *ARRIVE                               PEOPLE GROUP GIVE1 JANA TOY\n",
      "  181: *SUE ARRIVE                                                   JOHN ARRIVE\n",
      "  184: ALL BOY *GIVE1 TEACHER APPLE                                  ALL BOY GIVE TEACHER APPLE\n",
      "  189: JOHN *JOHN GIRL *ARRIVE                                       JOHN GIVE GIRL BOX\n",
      "  193: JOHN *GIVE1 GIRL BOX                                          JOHN GIVE GIRL BOX\n",
      "  199: *JOHN *ARRIVE *JOHN                                           LIKE CHOCOLATE WHO\n",
      "  201: JOHN *THINK *WOMAN *JOHN BUY HOUSE                            JOHN TELL MARY IX-1P BUY HOUSE\n"
     ]
    }
   ],
   "source": [
    "# TODO Choose a feature set and model selector\n",
    "features = features_custom # change as needed\n",
    "model_selector = SelectorCV # change as needed\n",
    "\n",
    "# TODO Recognize the test set and display the result with the show_errors method\n",
    "models = train_all_words(features, model_selector)\n",
    "test_set = asl.build_test(features)\n",
    "probabilities, guesses = recognize(models, test_set)\n",
    "show_errors(guesses, test_set)"
   ]
  },
  {
   "cell_type": "code",
   "execution_count": 184,
   "metadata": {
    "collapsed": false,
    "deletable": true,
    "editable": true
   },
   "outputs": [
    {
     "name": "stdout",
     "output_type": "stream",
     "text": [
      "\n",
      "**** WER = 0.4887640449438202\n",
      "Total correct: 91 out of 178\n",
      "Video  Recognized                                                    Correct\n",
      "=====================================================================================================\n",
      "    2: JOHN WRITE HOMEWORK                                           JOHN WRITE HOMEWORK\n",
      "    7: JOHN *PEOPLE *MARY *JOHN                                      JOHN CAN GO CAN\n",
      "   12: JOHN CAN *GO1 CAN                                             JOHN CAN GO CAN\n",
      "   21: JOHN *VIDEOTAPE *VISIT *FUTURE1 *BLAME *CAR *FUTURE *HOMEWORK  JOHN FISH WONT EAT BUT CAN EAT CHICKEN\n",
      "   25: *ANN *IX IX IX IX                                             JOHN LIKE IX IX IX\n",
      "   28: JOHN *IX IX IX IX                                             JOHN LIKE IX IX IX\n",
      "   30: *IX LIKE *MARY *LIKE IX                                       JOHN LIKE IX IX IX\n",
      "   36: *VISIT VEGETABLE *GIRL *GIVE2 *FRANK *MARY                    MARY VEGETABLE KNOW IX LIKE CORN1\n",
      "   40: JOHN *VISIT *GIRL *JOHN *MARY                                 JOHN IX THINK MARY LOVE\n",
      "   43: JOHN *FUTURE BUY HOUSE                                        JOHN MUST BUY HOUSE\n",
      "   50: *FRANK *SEE *WRITE CAR SHOULD                                 FUTURE JOHN BUY CAR SHOULD\n",
      "   54: JOHN SHOULD *FUTURE BUY HOUSE                                 JOHN SHOULD NOT BUY HOUSE\n",
      "   57: *IX *PREFER VISIT MARY                                        JOHN DECIDE VISIT MARY\n",
      "   67: JOHN FUTURE NOT BUY HOUSE                                     JOHN FUTURE NOT BUY HOUSE\n",
      "   71: JOHN WILL *GO MARY                                            JOHN WILL VISIT MARY\n",
      "   74: *IX *VISIT VISIT MARY                                         JOHN NOT VISIT MARY\n",
      "   77: *JOHN BLAME MARY                                              ANN BLAME MARY\n",
      "   84: *HOMEWORK *ARRIVE *VISIT BOOK                                 IX-1P FIND SOMETHING-ONE BOOK\n",
      "   89: *THINK *MAN *IX *WOMAN IX *BUY COAT                           JOHN IX GIVE MAN IX NEW COAT\n",
      "   90: *MARY *IX IX *IX WOMAN *VIDEOTAPE                             JOHN GIVE IX SOMETHING-ONE WOMAN BOOK\n",
      "   92: JOHN *WOMAN IX *WOMAN WOMAN BOOK                              JOHN GIVE IX SOMETHING-ONE WOMAN BOOK\n",
      "  100: POSS NEW CAR BREAK-DOWN                                       POSS NEW CAR BREAK-DOWN\n",
      "  105: JOHN *SEE                                                     JOHN LEG\n",
      "  107: *MARY *SUE FRIEND *MARY *MARY                                 JOHN POSS FRIEND HAVE CANDY\n",
      "  108: *IX *HOMEWORK                                                 WOMAN ARRIVE\n",
      "  113: IX CAR BLUE *MARY *BUY1                                       IX CAR BLUE SUE BUY\n",
      "  119: *VEGETABLE *BUY1 IX *ARRIVE *JOHN                             SUE BUY IX CAR BLUE\n",
      "  122: JOHN *GIVE1 BOOK                                              JOHN READ BOOK\n",
      "  139: JOHN *BUY1 WHAT *GO BOOK                                      JOHN BUY WHAT YESTERDAY BOOK\n",
      "  142: JOHN BUY YESTERDAY WHAT BOOK                                  JOHN BUY YESTERDAY WHAT BOOK\n",
      "  158: LOVE *MARY WHO                                                LOVE JOHN WHO\n",
      "  167: *MARY *MARY *JANA LOVE MARY                                   JOHN IX SAY LOVE MARY\n",
      "  171: JOHN MARY BLAME                                               JOHN MARY BLAME\n",
      "  174: *NEW GROUP GIVE1 *GIRL *BLAME                                 PEOPLE GROUP GIVE1 JANA TOY\n",
      "  181: *SUE ARRIVE                                                   JOHN ARRIVE\n",
      "  184: *IX BOY *GIVE1 TEACHER APPLE                                  ALL BOY GIVE TEACHER APPLE\n",
      "  189: *MARY *JOHN GIRL *ARRIVE                                      JOHN GIVE GIRL BOX\n",
      "  193: JOHN *GIVE1 GIRL BOX                                          JOHN GIVE GIRL BOX\n",
      "  199: *JOHN *HOMEWORK WHO                                           LIKE CHOCOLATE WHO\n",
      "  201: JOHN *THINK *MAN *WOMAN *STUDENT HOUSE                        JOHN TELL MARY IX-1P BUY HOUSE\n"
     ]
    }
   ],
   "source": [
    "# TODO Choose a feature set and model selector\n",
    "features = features_custom # change as needed\n",
    "model_selector = SelectorBIC # change as needed\n",
    "\n",
    "# TODO Recognize the test set and display the result with the show_errors method\n",
    "models = train_all_words(features, model_selector)\n",
    "test_set = asl.build_test(features)\n",
    "probabilities, guesses = recognize(models, test_set)\n",
    "show_errors(guesses, test_set)"
   ]
  },
  {
   "cell_type": "code",
   "execution_count": 185,
   "metadata": {
    "collapsed": false,
    "deletable": true,
    "editable": true
   },
   "outputs": [
    {
     "name": "stdout",
     "output_type": "stream",
     "text": [
      "\n",
      "**** WER = 0.46629213483146065\n",
      "Total correct: 95 out of 178\n",
      "Video  Recognized                                                    Correct\n",
      "=====================================================================================================\n",
      "    2: JOHN WRITE HOMEWORK                                           JOHN WRITE HOMEWORK\n",
      "    7: JOHN *DECIDE GO *JOHN                                         JOHN CAN GO CAN\n",
      "   12: JOHN CAN *GO1 CAN                                             JOHN CAN GO CAN\n",
      "   21: JOHN *BROTHER *ARRIVE *FUTURE1 BUT CAN *FUTURE *HOMEWORK      JOHN FISH WONT EAT BUT CAN EAT CHICKEN\n",
      "   25: *ANN *IX IX *ANN IX                                           JOHN LIKE IX IX IX\n",
      "   28: JOHN *GO IX IX IX                                             JOHN LIKE IX IX IX\n",
      "   30: *IX LIKE *LOVE *LIKE *GO                                      JOHN LIKE IX IX IX\n",
      "   36: *VISIT VEGETABLE *GIRL *GIVE2 *FRANK *MARY                    MARY VEGETABLE KNOW IX LIKE CORN1\n",
      "   40: JOHN *VISIT *GIRL *JOHN LOVE                                  JOHN IX THINK MARY LOVE\n",
      "   43: JOHN *FUTURE BUY HOUSE                                        JOHN MUST BUY HOUSE\n",
      "   50: *FRANK *SEE BUY CAR SHOULD                                    FUTURE JOHN BUY CAR SHOULD\n",
      "   54: JOHN SHOULD *FUTURE BUY HOUSE                                 JOHN SHOULD NOT BUY HOUSE\n",
      "   57: *SHOOT *PREFER VISIT MARY                                     JOHN DECIDE VISIT MARY\n",
      "   67: JOHN FUTURE *FUTURE BUY HOUSE                                 JOHN FUTURE NOT BUY HOUSE\n",
      "   71: JOHN *FUTURE *GO MARY                                         JOHN WILL VISIT MARY\n",
      "   74: *SHOOT *VISIT VISIT MARY                                      JOHN NOT VISIT MARY\n",
      "   77: *JOHN BLAME MARY                                              ANN BLAME MARY\n",
      "   84: *JOHN *JOHN *ARRIVE BOOK                                      IX-1P FIND SOMETHING-ONE BOOK\n",
      "   89: *FUTURE *POSS *POSS *WOMAN IX *BUY *BREAK-DOWN                JOHN IX GIVE MAN IX NEW COAT\n",
      "   90: *MARY *SOMETHING-ONE IX *GIVE3 WOMAN *VIDEOTAPE               JOHN GIVE IX SOMETHING-ONE WOMAN BOOK\n",
      "   92: JOHN *THINK IX *WOMAN WOMAN BOOK                              JOHN GIVE IX SOMETHING-ONE WOMAN BOOK\n",
      "  100: POSS NEW CAR BREAK-DOWN                                       POSS NEW CAR BREAK-DOWN\n",
      "  105: JOHN *POSS                                                    JOHN LEG\n",
      "  107: *MARY POSS FRIEND *MARY *MARY                                 JOHN POSS FRIEND HAVE CANDY\n",
      "  108: WOMAN ARRIVE                                                  WOMAN ARRIVE\n",
      "  113: IX CAR BLUE *MARY *BUY1                                       IX CAR BLUE SUE BUY\n",
      "  119: *PREFER *BUY1 *MARY *TOY *JOHN                                SUE BUY IX CAR BLUE\n",
      "  122: JOHN *GIVE1 BOOK                                              JOHN READ BOOK\n",
      "  139: JOHN *BUY1 WHAT *JOHN BOOK                                    JOHN BUY WHAT YESTERDAY BOOK\n",
      "  142: *FRANK BUY YESTERDAY WHAT BOOK                                JOHN BUY YESTERDAY WHAT BOOK\n",
      "  158: LOVE JOHN WHO                                                 LOVE JOHN WHO\n",
      "  167: JOHN *MARY *JANA LOVE MARY                                    JOHN IX SAY LOVE MARY\n",
      "  171: JOHN *JOHN BLAME                                              JOHN MARY BLAME\n",
      "  174: *NEW GROUP GIVE1 *GIRL *BLAME                                 PEOPLE GROUP GIVE1 JANA TOY\n",
      "  181: *SUE ARRIVE                                                   JOHN ARRIVE\n",
      "  184: *IX BOY *GIVE1 TEACHER *GIRL                                  ALL BOY GIVE TEACHER APPLE\n",
      "  189: *MARY *SOMETHING-ONE GIRL BOX                                 JOHN GIVE GIRL BOX\n",
      "  193: JOHN *GIVE1 GIRL BOX                                          JOHN GIVE GIRL BOX\n",
      "  199: *JOHN *STUDENT WHO                                            LIKE CHOCOLATE WHO\n",
      "  201: JOHN *THINK MARY *WOMAN BUY HOUSE                             JOHN TELL MARY IX-1P BUY HOUSE\n"
     ]
    }
   ],
   "source": [
    "# TODO Choose a feature set and model selector\n",
    "features = features_custom  # change as needed\n",
    "model_selector = SelectorDIC # change as needed\n",
    "\n",
    "# TODO Recognize the test set and display the result with the show_errors method\n",
    "models = train_all_words(features, model_selector)\n",
    "test_set = asl.build_test(features)\n",
    "probabilities, guesses = recognize(models, test_set)\n",
    "show_errors(guesses, test_set)"
   ]
  },
  {
   "cell_type": "markdown",
   "metadata": {
    "deletable": true,
    "editable": true
   },
   "source": [
    "**Question 3:**  Summarize the error results from three combinations of features and model selectors.  What was the \"best\" combination and why?  What additional information might we use to improve our WER?  For more insight on improving WER, take a look at the introduction to Part 4.\n",
    "\n",
    "**Answer 3:** The features set features_custom gave the best scores in comparison to all the feature sets, the features_custom is a combination of normalized polar coordinates and scaled right, left hand actions. The polar coordinates seems to be the most important feature and are better represented features then the Cartesian counterpart. \n",
    "\n",
    "The best model selector for the same set of features, features_custom is DIC (WER = 0.46629213483146065) followed up closely by BIC(WER= 0.4887640449438202) and CV(WER = 0.5674157303370787), The mediocre performance of CV can be attributed to the nature of the dataset, as the dataset as some words are very sparse and have a very few sequences i.e. sparsely distributed. All three methodologies perform better than the expected word error rate of 60% with the features_custom feature set.\n",
    "\n",
    "The performance of the models can be improved by adding the n gram features to see which pair of words often come together, also adding grammatical knowledge to the model i.e. nouns are most likely to precede verbs etc.. This can be achieved with POS tagging in NLTK.\n"
   ]
  },
  {
   "cell_type": "markdown",
   "metadata": {
    "deletable": true,
    "editable": true
   },
   "source": [
    "<a id='part3_test'></a>\n",
    "### Recognizer Unit Tests\n",
    "Run the following unit tests as a sanity check on the defined recognizer.  The test simply looks for some valid values but is not exhaustive. However, the project should not be submitted if these tests don't pass."
   ]
  },
  {
   "cell_type": "code",
   "execution_count": 186,
   "metadata": {
    "collapsed": false,
    "deletable": true,
    "editable": true
   },
   "outputs": [
    {
     "name": "stderr",
     "output_type": "stream",
     "text": [
      "..\n",
      "----------------------------------------------------------------------\n",
      "Ran 2 tests in 54.631s\n",
      "\n",
      "OK\n"
     ]
    },
    {
     "data": {
      "text/plain": [
       "<unittest.runner.TextTestResult run=2 errors=0 failures=0>"
      ]
     },
     "execution_count": 186,
     "metadata": {},
     "output_type": "execute_result"
    }
   ],
   "source": [
    "from asl_test_recognizer import TestRecognize\n",
    "suite = unittest.TestLoader().loadTestsFromModule(TestRecognize())\n",
    "unittest.TextTestRunner().run(suite)"
   ]
  },
  {
   "cell_type": "markdown",
   "metadata": {
    "deletable": true,
    "editable": true
   },
   "source": [
    "<a id='part4_info'></a>\n",
    "## PART 4: (OPTIONAL)  Improve the WER with Language Models\n",
    "We've squeezed just about as much as we can out of the model and still only get about 50% of the words right! Surely we can do better than that.  Probability to the rescue again in the form of [statistical language models (SLM)](https://en.wikipedia.org/wiki/Language_model).  The basic idea is that each word has some probability of occurrence within the set, and some probability that it is adjacent to specific other words. We can use that additional information to make better choices.\n",
    "\n",
    "##### Additional reading and resources\n",
    "- [Introduction to N-grams (Stanford Jurafsky slides)](https://web.stanford.edu/class/cs124/lec/languagemodeling.pdf)\n",
    "- [Speech Recognition Techniques for a Sign Language Recognition System, Philippe Dreuw et al](https://www-i6.informatik.rwth-aachen.de/publications/download/154/Dreuw--2007.pdf) see the improved results of applying LM on *this* data!\n",
    "- [SLM data for *this* ASL dataset](ftp://wasserstoff.informatik.rwth-aachen.de/pub/rwth-boston-104/lm/)\n",
    "\n",
    "##### Optional challenge\n",
    "The recognizer you implemented in Part 3 is equivalent to a \"0-gram\" SLM.  Improve the WER with the SLM data provided with the data set in the link above using \"1-gram\", \"2-gram\", and/or \"3-gram\" statistics. The `probabilities` data you've already calculated will be useful and can be turned into a pandas DataFrame if desired (see next cell).  \n",
    "Good luck!  Share your results with the class!"
   ]
  },
  {
   "cell_type": "code",
   "execution_count": null,
   "metadata": {
    "collapsed": true,
    "deletable": true,
    "editable": true
   },
   "outputs": [],
   "source": [
    "# create a DataFrame of log likelihoods for the test word items\n",
    "df_probs = pd.DataFrame(data=probabilities)\n",
    "df_probs.head()"
   ]
  }
 ],
 "metadata": {
  "anaconda-cloud": {},
  "kernelspec": {
   "display_name": "Python [conda env:aind]",
   "language": "python",
   "name": "conda-env-aind-py"
  },
  "language_info": {
   "codemirror_mode": {
    "name": "ipython",
    "version": 3
   },
   "file_extension": ".py",
   "mimetype": "text/x-python",
   "name": "python",
   "nbconvert_exporter": "python",
   "pygments_lexer": "ipython3",
   "version": "3.6.0"
  },
  "nbpresent": {
   "slides": {
    "0a2d4faf-9fb8-4cee-853b-ed68b90f3f8a": {
     "id": "0a2d4faf-9fb8-4cee-853b-ed68b90f3f8a",
     "prev": null,
     "regions": {
      "3fb9ce83-fbb2-4995-832a-f8f400734ad3": {
       "attrs": {
        "height": 0.8,
        "width": 0.8,
        "x": 0.1,
        "y": 0.1
       },
       "content": {
        "cell": "1dbb9346-179b-4835-b430-6369d88f1a1b",
        "part": "whole"
       },
       "id": "3fb9ce83-fbb2-4995-832a-f8f400734ad3"
      }
     }
    },
    "1519a4fa-1588-4644-98de-9c43bf0aceb5": {
     "id": "1519a4fa-1588-4644-98de-9c43bf0aceb5",
     "prev": "8a712017-49b7-449f-8264-43a032ace902",
     "regions": {
      "29546121-ed11-44b7-8144-0c44e874098f": {
       "attrs": {
        "height": 0.8,
        "width": 0.8,
        "x": 0.1,
        "y": 0.1
       },
       "content": {
        "cell": "365590a4-6963-4812-a1cf-688f7b6bb9ff",
        "part": "whole"
       },
       "id": "29546121-ed11-44b7-8144-0c44e874098f"
      }
     }
    },
    "176eaccb-15dd-455d-bf07-504213e7aa01": {
     "id": "176eaccb-15dd-455d-bf07-504213e7aa01",
     "prev": "de6b30f4-2463-4901-92ed-aabad78e5e0f",
     "regions": {
      "1542aa9e-dc55-4b90-adef-bf5181872b42": {
       "attrs": {
        "height": 0.8,
        "width": 0.8,
        "x": 0.1,
        "y": 0.1
       },
       "content": {
        "cell": "5c242050-c1f7-4b3b-8103-2ea9d71a40dc",
        "part": "whole"
       },
       "id": "1542aa9e-dc55-4b90-adef-bf5181872b42"
      }
     }
    },
    "19091b36-b0e7-49b1-b501-ec05937e0da9": {
     "id": "19091b36-b0e7-49b1-b501-ec05937e0da9",
     "prev": "1983c02e-fb99-4c05-a728-e0c0ad7c06d8",
     "regions": {
      "6529a31c-8d45-425c-b1d7-d0ac6fca6a32": {
       "attrs": {
        "height": 0.8,
        "width": 0.8,
        "x": 0.1,
        "y": 0.1
       },
       "content": {
        "cell": "e766909d-9421-4aaf-9fb1-bc90d27e49e3",
        "part": "whole"
       },
       "id": "6529a31c-8d45-425c-b1d7-d0ac6fca6a32"
      }
     }
    },
    "1983c02e-fb99-4c05-a728-e0c0ad7c06d8": {
     "id": "1983c02e-fb99-4c05-a728-e0c0ad7c06d8",
     "prev": "176eaccb-15dd-455d-bf07-504213e7aa01",
     "regions": {
      "1c4e605d-7f22-4f30-b3fb-74b2937e7a4a": {
       "attrs": {
        "height": 0.8,
        "width": 0.8,
        "x": 0.1,
        "y": 0.1
       },
       "content": {
        "cell": "4d217204-e5c0-4568-bd30-12c2e41b681d",
        "part": "whole"
       },
       "id": "1c4e605d-7f22-4f30-b3fb-74b2937e7a4a"
      }
     }
    },
    "212b111f-4527-459c-8297-1db5580ee5c9": {
     "id": "212b111f-4527-459c-8297-1db5580ee5c9",
     "prev": "76898529-e49e-4663-8d02-8261dfe1d94b",
     "regions": {
      "2e4bd280-3cd6-47d0-9c81-17737b24053b": {
       "attrs": {
        "height": 0.8,
        "width": 0.8,
        "x": 0.1,
        "y": 0.1
       },
       "content": {
        "cell": "0c316996-9933-4b3d-82ec-259518dc8bc9",
        "part": "whole"
       },
       "id": "2e4bd280-3cd6-47d0-9c81-17737b24053b"
      }
     }
    },
    "23a7337f-a0cf-4ed4-baa9-ec06bfdc0579": {
     "id": "23a7337f-a0cf-4ed4-baa9-ec06bfdc0579",
     "prev": "e76e9a02-54c1-4ec9-80fb-c611ed398122",
     "regions": {
      "b5721d20-d6f8-4ddb-a5aa-eb16f0cc8893": {
       "attrs": {
        "height": 0.8,
        "width": 0.8,
        "x": 0.1,
        "y": 0.1
       },
       "content": {
        "cell": "313015a2-b5a9-4136-a8ea-5d011e47d840",
        "part": "whole"
       },
       "id": "b5721d20-d6f8-4ddb-a5aa-eb16f0cc8893"
      }
     }
    },
    "732f1952-ee54-46fb-8067-099512824296": {
     "id": "732f1952-ee54-46fb-8067-099512824296",
     "prev": "0a2d4faf-9fb8-4cee-853b-ed68b90f3f8a",
     "regions": {
      "f31d4597-08ad-4c46-ad52-4bd2d775c624": {
       "attrs": {
        "height": 0.8,
        "width": 0.8,
        "x": 0.1,
        "y": 0.1
       },
       "content": {
        "cell": "aadfec52-27ca-4541-8920-fa9253d51827",
        "part": "whole"
       },
       "id": "f31d4597-08ad-4c46-ad52-4bd2d775c624"
      }
     }
    },
    "76898529-e49e-4663-8d02-8261dfe1d94b": {
     "id": "76898529-e49e-4663-8d02-8261dfe1d94b",
     "prev": "19091b36-b0e7-49b1-b501-ec05937e0da9",
     "regions": {
      "ec1746fc-aec9-4a7c-8225-9e9ac8d45889": {
       "attrs": {
        "height": 0.8,
        "width": 0.8,
        "x": 0.1,
        "y": 0.1
       },
       "content": {
        "cell": "b3e539be-84e2-49ce-a183-31cfc5c7ce7c",
        "part": "whole"
       },
       "id": "ec1746fc-aec9-4a7c-8225-9e9ac8d45889"
      }
     }
    },
    "8a712017-49b7-449f-8264-43a032ace902": {
     "id": "8a712017-49b7-449f-8264-43a032ace902",
     "prev": "bed9e696-630e-4747-be1c-bc3737ba992f",
     "regions": {
      "1faab517-cd16-4c63-bb01-a67246749d7a": {
       "attrs": {
        "height": 0.8,
        "width": 0.8,
        "x": 0.1,
        "y": 0.1
       },
       "content": {
        "cell": "3f14ddf0-4145-4687-9c33-712c3c32520f",
        "part": "whole"
       },
       "id": "1faab517-cd16-4c63-bb01-a67246749d7a"
      }
     }
    },
    "90af992d-eb6d-4496-b2d2-6aa9a95b6a61": {
     "id": "90af992d-eb6d-4496-b2d2-6aa9a95b6a61",
     "prev": "732f1952-ee54-46fb-8067-099512824296",
     "regions": {
      "4f448bec-5be9-4553-88ae-e35ed7612f25": {
       "attrs": {
        "height": 0.8,
        "width": 0.8,
        "x": 0.1,
        "y": 0.1
       },
       "content": {
        "cell": "c445fbfb-b8ab-4e9a-8d13-12231a1c588f",
        "part": "whole"
       },
       "id": "4f448bec-5be9-4553-88ae-e35ed7612f25"
      }
     }
    },
    "bed9e696-630e-4747-be1c-bc3737ba992f": {
     "id": "bed9e696-630e-4747-be1c-bc3737ba992f",
     "prev": "23a7337f-a0cf-4ed4-baa9-ec06bfdc0579",
     "regions": {
      "ac1513f0-404f-492b-8b42-0313e9a753b0": {
       "attrs": {
        "height": 0.8,
        "width": 0.8,
        "x": 0.1,
        "y": 0.1
       },
       "content": {
        "cell": "18dd2eee-8b6c-4a5e-9539-132d00a7c7e1",
        "part": "whole"
       },
       "id": "ac1513f0-404f-492b-8b42-0313e9a753b0"
      }
     }
    },
    "de6b30f4-2463-4901-92ed-aabad78e5e0f": {
     "id": "de6b30f4-2463-4901-92ed-aabad78e5e0f",
     "prev": "e36b4639-be8c-46f7-a8c9-bcfb134f9fd0",
     "regions": {
      "55ec36e0-362f-4fd3-8060-7cee056039aa": {
       "attrs": {
        "height": 0.8,
        "width": 0.8,
        "x": 0.1,
        "y": 0.1
       },
       "content": {
        "cell": "c3cf461e-4c9e-4dec-99d2-07bfa79cbe23",
        "part": "whole"
       },
       "id": "55ec36e0-362f-4fd3-8060-7cee056039aa"
      }
     }
    },
    "e36b4639-be8c-46f7-a8c9-bcfb134f9fd0": {
     "id": "e36b4639-be8c-46f7-a8c9-bcfb134f9fd0",
     "prev": "1519a4fa-1588-4644-98de-9c43bf0aceb5",
     "regions": {
      "4c1e9714-9ba0-45fd-8a2f-ef80a5c85c2e": {
       "attrs": {
        "height": 0.8,
        "width": 0.8,
        "x": 0.1,
        "y": 0.1
       },
       "content": {
        "cell": "6534d4dc-125f-47e6-a022-cf1e0d277174",
        "part": "whole"
       },
       "id": "4c1e9714-9ba0-45fd-8a2f-ef80a5c85c2e"
      }
     }
    },
    "e76e9a02-54c1-4ec9-80fb-c611ed398122": {
     "id": "e76e9a02-54c1-4ec9-80fb-c611ed398122",
     "prev": "90af992d-eb6d-4496-b2d2-6aa9a95b6a61",
     "regions": {
      "9491b84d-193b-40ff-9321-d21eb1ba88d4": {
       "attrs": {
        "height": 0.8,
        "width": 0.8,
        "x": 0.1,
        "y": 0.1
       },
       "content": {
        "cell": "b64ec10e-fa9d-4f3f-907f-6799611ed6b1",
        "part": "whole"
       },
       "id": "9491b84d-193b-40ff-9321-d21eb1ba88d4"
      }
     }
    }
   },
   "themes": {}
  }
 },
 "nbformat": 4,
 "nbformat_minor": 0
}
